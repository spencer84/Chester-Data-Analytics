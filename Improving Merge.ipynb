{
 "cells": [
  {
   "cell_type": "markdown",
   "id": "64bfc29a",
   "metadata": {},
   "source": [
    "This notebook is aimed at improving the merged database by increasing the number of records matched from the EPC and Land Registry Databases"
   ]
  },
  {
   "cell_type": "code",
   "execution_count": null,
   "id": "d1e26a30",
   "metadata": {},
   "outputs": [],
   "source": [
    "import sqlite3\n",
    "import pandas as pd\n",
    "\n"
   ]
  },
  {
   "cell_type": "code",
   "execution_count": null,
   "id": "b74e135f",
   "metadata": {},
   "outputs": [],
   "source": [
    "db = sqlite3.connect('cda.db')\n",
    "# Create a cursor object\n",
    "cur = db.cursor()"
   ]
  }
 ],
 "metadata": {
  "kernelspec": {
   "display_name": "Python 3 (ipykernel)",
   "language": "python",
   "name": "python3"
  },
  "language_info": {
   "codemirror_mode": {
    "name": "ipython",
    "version": 3
   },
   "file_extension": ".py",
   "mimetype": "text/x-python",
   "name": "python",
   "nbconvert_exporter": "python",
   "pygments_lexer": "ipython3",
   "version": "3.8.10"
  }
 },
 "nbformat": 4,
 "nbformat_minor": 5
}
