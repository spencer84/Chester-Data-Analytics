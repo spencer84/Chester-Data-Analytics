{
 "cells": [
  {
   "cell_type": "markdown",
   "id": "e804dca4",
   "metadata": {},
   "source": [
    "#### The goal of this is to produce a house value based on data retrieved from multiple data sources"
   ]
  },
  {
   "cell_type": "code",
   "execution_count": 1,
   "id": "15048fd6",
   "metadata": {},
   "outputs": [],
   "source": [
    "import pandas as pd\n",
    "import numpy as np\n",
    "import math\n",
    "import sqlite3\n",
    "from sklearn.ensemble import RandomForestRegressor\n",
    "from sklearn.datasets import make_regression\n",
    "from sklearn.linear_model import LinearRegression\n",
    "from sklearn.model_selection import train_test_split\n",
    "from sklearn.metrics import mean_squared_error, r2_score\n",
    "from sklearn.metrics import mean_absolute_percentage_error\n",
    "from PostcodeToCoordinates import PostcodeGeocode\n",
    "import matplotlib\n",
    "import matplotlib.pyplot as plt\n",
    "from house_value_estimation import sql_query_to_df"
   ]
  },
  {
   "cell_type": "markdown",
   "id": "a6691f16",
   "metadata": {},
   "source": [
    "##  Import Data and Setup"
   ]
  },
  {
   "cell_type": "code",
   "execution_count": 2,
   "id": "12ce68b1",
   "metadata": {},
   "outputs": [],
   "source": [
    "# Change this to reading in from the DB\n",
    "\n",
    "con = sqlite3.connect('cda.db')\n",
    "\n",
    "cur = con.cursor()\n",
    "\n",
    "# Query the joined table of both the EPC and land Registry Data (This table is simply called 'merged')\n",
    "\n",
    "# Set the postcode district to focus on\n",
    "\n",
    "postcode_district = 'CH1'\n",
    "\n",
    "query = f\"Select * from merged where postcode_district = '{postcode_district}'\"\n",
    "\n",
    "# Convert SQLite3 query to Pandas DataFrame\n",
    "\n",
    "merged_df = sql_query_to_df(cur, query)\n"
   ]
  },
  {
   "cell_type": "code",
   "execution_count": 6,
   "id": "e7d05984",
   "metadata": {},
   "outputs": [],
   "source": [
    "# Perform some additional transformations\n",
    "\n",
    "merged_df['datetime'] = pd.to_datetime(merged_df['most_recent_transaction'])\n",
    "merged_df['year'] = merged_df['datetime'].apply(lambda x: x.year)"
   ]
  },
  {
   "cell_type": "code",
   "execution_count": 7,
   "id": "d3fe25a0",
   "metadata": {},
   "outputs": [
    {
     "data": {
      "text/html": [
       "<div>\n",
       "<style scoped>\n",
       "    .dataframe tbody tr th:only-of-type {\n",
       "        vertical-align: middle;\n",
       "    }\n",
       "\n",
       "    .dataframe tbody tr th {\n",
       "        vertical-align: top;\n",
       "    }\n",
       "\n",
       "    .dataframe thead th {\n",
       "        text-align: right;\n",
       "    }\n",
       "</style>\n",
       "<table border=\"1\" class=\"dataframe\">\n",
       "  <thead>\n",
       "    <tr style=\"text-align: right;\">\n",
       "      <th></th>\n",
       "      <th>town</th>\n",
       "      <th>postcode_district</th>\n",
       "      <th>postcode</th>\n",
       "      <th>PAON</th>\n",
       "      <th>street_name</th>\n",
       "      <th>transaction_date</th>\n",
       "      <th>price_paid</th>\n",
       "      <th>query_date</th>\n",
       "      <th>most_recent_transaction</th>\n",
       "      <th>address</th>\n",
       "      <th>address1</th>\n",
       "      <th>house_number</th>\n",
       "      <th>uprn</th>\n",
       "      <th>postcode:1</th>\n",
       "      <th>current_energy_rating</th>\n",
       "      <th>total_floor_area</th>\n",
       "      <th>lodgement_datetime</th>\n",
       "      <th>query_date:1</th>\n",
       "      <th>datetime</th>\n",
       "      <th>year</th>\n",
       "    </tr>\n",
       "  </thead>\n",
       "  <tbody>\n",
       "    <tr>\n",
       "      <th>0</th>\n",
       "      <td>CHESTER</td>\n",
       "      <td>CH1</td>\n",
       "      <td>CH1 1NZ</td>\n",
       "      <td>1</td>\n",
       "      <td>WHITE FRIARS</td>\n",
       "      <td>Fri, 31 Jul 2015</td>\n",
       "      <td>367500</td>\n",
       "      <td>2022-04-11 21:53:23</td>\n",
       "      <td>Fri, 31 Jul 2015</td>\n",
       "      <td>1, White Friars</td>\n",
       "      <td>1, White Friars</td>\n",
       "      <td>1</td>\n",
       "      <td>100010034319</td>\n",
       "      <td>CH1 1NZ</td>\n",
       "      <td>E</td>\n",
       "      <td>126.00</td>\n",
       "      <td>2012-09-06 19:15:07</td>\n",
       "      <td>2022-08-01 20:23:12</td>\n",
       "      <td>2015-07-31</td>\n",
       "      <td>2015</td>\n",
       "    </tr>\n",
       "    <tr>\n",
       "      <th>1</th>\n",
       "      <td>CHESTER</td>\n",
       "      <td>CH1</td>\n",
       "      <td>CH1 1QG</td>\n",
       "      <td>1</td>\n",
       "      <td>KNIGHTSBRIDGE COURT</td>\n",
       "      <td>Thu, 18 Aug 2011</td>\n",
       "      <td>155950</td>\n",
       "      <td>2022-04-11 21:52:53</td>\n",
       "      <td>Thu, 18 Aug 2011</td>\n",
       "      <td>1, Knightsbridge Court</td>\n",
       "      <td>1, Knightsbridge Court</td>\n",
       "      <td>1</td>\n",
       "      <td>200000831553</td>\n",
       "      <td>CH1 1QG</td>\n",
       "      <td>D</td>\n",
       "      <td>59.33</td>\n",
       "      <td>2009-07-08 15:00:29</td>\n",
       "      <td>2022-08-01 20:23:12</td>\n",
       "      <td>2011-08-18</td>\n",
       "      <td>2011</td>\n",
       "    </tr>\n",
       "    <tr>\n",
       "      <th>2</th>\n",
       "      <td>CHESTER</td>\n",
       "      <td>CH1</td>\n",
       "      <td>CH1 1RA</td>\n",
       "      <td>1</td>\n",
       "      <td>THE SHIPGATE</td>\n",
       "      <td>Fri, 25 Apr 2008</td>\n",
       "      <td>275000</td>\n",
       "      <td>2022-04-11 21:52:36</td>\n",
       "      <td>Fri, 25 Apr 2008</td>\n",
       "      <td>1, The Shipgate, Shipgate Street</td>\n",
       "      <td>1, The Shipgate</td>\n",
       "      <td>1</td>\n",
       "      <td>100012350837</td>\n",
       "      <td>CH1 1RA</td>\n",
       "      <td>D</td>\n",
       "      <td>120.00</td>\n",
       "      <td>2015-02-20 18:09:13</td>\n",
       "      <td>2022-08-01 20:23:12</td>\n",
       "      <td>2008-04-25</td>\n",
       "      <td>2008</td>\n",
       "    </tr>\n",
       "    <tr>\n",
       "      <th>3</th>\n",
       "      <td>CHESTER</td>\n",
       "      <td>CH1</td>\n",
       "      <td>CH1 1RH</td>\n",
       "      <td>1</td>\n",
       "      <td>STEELE STREET</td>\n",
       "      <td>Tue, 04 Jul 2017</td>\n",
       "      <td>225000</td>\n",
       "      <td>2022-04-11 21:55:01</td>\n",
       "      <td>Tue, 04 Jul 2017</td>\n",
       "      <td>1, Steele Street</td>\n",
       "      <td>1, Steele Street</td>\n",
       "      <td>1</td>\n",
       "      <td>100010029310</td>\n",
       "      <td>CH1 1RH</td>\n",
       "      <td>D</td>\n",
       "      <td>73.00</td>\n",
       "      <td>2017-03-01 19:05:11</td>\n",
       "      <td>2022-08-01 20:23:12</td>\n",
       "      <td>2017-07-04</td>\n",
       "      <td>2017</td>\n",
       "    </tr>\n",
       "    <tr>\n",
       "      <th>4</th>\n",
       "      <td>CHESTER</td>\n",
       "      <td>CH1</td>\n",
       "      <td>CH1 1RQ</td>\n",
       "      <td>1</td>\n",
       "      <td>ALBION MEWS</td>\n",
       "      <td>Fri, 08 Jul 2011</td>\n",
       "      <td>115000</td>\n",
       "      <td>2022-04-11 21:52:53</td>\n",
       "      <td>Fri, 08 Jul 2011</td>\n",
       "      <td>1 Albion Mews, Albion Street</td>\n",
       "      <td>1 Albion Mews</td>\n",
       "      <td>1</td>\n",
       "      <td>100012346286</td>\n",
       "      <td>CH1 1RQ</td>\n",
       "      <td>E</td>\n",
       "      <td>40.68</td>\n",
       "      <td>2010-06-25 18:33:26</td>\n",
       "      <td>2022-08-01 20:23:12</td>\n",
       "      <td>2011-07-08</td>\n",
       "      <td>2011</td>\n",
       "    </tr>\n",
       "  </tbody>\n",
       "</table>\n",
       "</div>"
      ],
      "text/plain": [
       "      town postcode_district postcode PAON          street_name  \\\n",
       "0  CHESTER               CH1  CH1 1NZ    1         WHITE FRIARS   \n",
       "1  CHESTER               CH1  CH1 1QG    1  KNIGHTSBRIDGE COURT   \n",
       "2  CHESTER               CH1  CH1 1RA    1         THE SHIPGATE   \n",
       "3  CHESTER               CH1  CH1 1RH    1        STEELE STREET   \n",
       "4  CHESTER               CH1  CH1 1RQ    1          ALBION MEWS   \n",
       "\n",
       "   transaction_date  price_paid           query_date most_recent_transaction  \\\n",
       "0  Fri, 31 Jul 2015      367500  2022-04-11 21:53:23        Fri, 31 Jul 2015   \n",
       "1  Thu, 18 Aug 2011      155950  2022-04-11 21:52:53        Thu, 18 Aug 2011   \n",
       "2  Fri, 25 Apr 2008      275000  2022-04-11 21:52:36        Fri, 25 Apr 2008   \n",
       "3  Tue, 04 Jul 2017      225000  2022-04-11 21:55:01        Tue, 04 Jul 2017   \n",
       "4  Fri, 08 Jul 2011      115000  2022-04-11 21:52:53        Fri, 08 Jul 2011   \n",
       "\n",
       "                            address                address1 house_number  \\\n",
       "0                   1, White Friars         1, White Friars            1   \n",
       "1            1, Knightsbridge Court  1, Knightsbridge Court            1   \n",
       "2  1, The Shipgate, Shipgate Street         1, The Shipgate            1   \n",
       "3                  1, Steele Street        1, Steele Street            1   \n",
       "4      1 Albion Mews, Albion Street           1 Albion Mews            1   \n",
       "\n",
       "           uprn postcode:1 current_energy_rating  total_floor_area  \\\n",
       "0  100010034319    CH1 1NZ                     E            126.00   \n",
       "1  200000831553    CH1 1QG                     D             59.33   \n",
       "2  100012350837    CH1 1RA                     D            120.00   \n",
       "3  100010029310    CH1 1RH                     D             73.00   \n",
       "4  100012346286    CH1 1RQ                     E             40.68   \n",
       "\n",
       "    lodgement_datetime         query_date:1   datetime  year  \n",
       "0  2012-09-06 19:15:07  2022-08-01 20:23:12 2015-07-31  2015  \n",
       "1  2009-07-08 15:00:29  2022-08-01 20:23:12 2011-08-18  2011  \n",
       "2  2015-02-20 18:09:13  2022-08-01 20:23:12 2008-04-25  2008  \n",
       "3  2017-03-01 19:05:11  2022-08-01 20:23:12 2017-07-04  2017  \n",
       "4  2010-06-25 18:33:26  2022-08-01 20:23:12 2011-07-08  2011  "
      ]
     },
     "execution_count": 7,
     "metadata": {},
     "output_type": "execute_result"
    }
   ],
   "source": [
    "merged_df.head()"
   ]
  },
  {
   "cell_type": "code",
   "execution_count": 8,
   "id": "01cfee07",
   "metadata": {},
   "outputs": [
    {
     "data": {
      "text/plain": [
       "4856"
      ]
     },
     "execution_count": 8,
     "metadata": {},
     "output_type": "execute_result"
    }
   ],
   "source": [
    "len(merged_df)"
   ]
  },
  {
   "cell_type": "code",
   "execution_count": 10,
   "id": "a58df124",
   "metadata": {},
   "outputs": [
    {
     "name": "stderr",
     "output_type": "stream",
     "text": [
      "/tmp/ipykernel_557483/449218521.py:6: SettingWithCopyWarning: \n",
      "A value is trying to be set on a copy of a slice from a DataFrame.\n",
      "Try using .loc[row_indexer,col_indexer] = value instead\n",
      "\n",
      "See the caveats in the documentation: https://pandas.pydata.org/pandas-docs/stable/user_guide/indexing.html#returning-a-view-versus-a-copy\n",
      "  df_21['price_paid'] = df_21['price_paid'].apply(lambda x: int(x))\n"
     ]
    },
    {
     "data": {
      "text/plain": [
       "<AxesSubplot:ylabel='Density'>"
      ]
     },
     "execution_count": 10,
     "metadata": {},
     "output_type": "execute_result"
    },
    {
     "data": {
      "image/png": "[encoded data removed]",
      "text/plain": [
       "<Figure size 432x288 with 1 Axes>"
      ]
     },
     "metadata": {
      "needs_background": "light"
     },
     "output_type": "display_data"
    }
   ],
   "source": [
    "### Examine most recent year - 2021 in this instance\n",
    "# Change to examine year in date time rather than int val?\n",
    "\n",
    "df_21 = merged_df[merged_df['year']==2021]\n",
    "\n",
    "df_21['price_paid'] = df_21['price_paid'].apply(lambda x: int(x))\n",
    "\n",
    "df_21['price_paid'].plot.kde()"
   ]
  },
  {
   "cell_type": "code",
   "execution_count": 18,
   "id": "0977b86f",
   "metadata": {},
   "outputs": [
    {
     "data": {
      "text/plain": [
       "302"
      ]
     },
     "execution_count": 18,
     "metadata": {},
     "output_type": "execute_result"
    }
   ],
   "source": [
    "# How many records are in the 2021 dataset?\n",
    "\n",
    "len(df_21)"
   ]
  },
  {
   "cell_type": "code",
   "execution_count": 11,
   "id": "0f36b150",
   "metadata": {},
   "outputs": [
    {
     "data": {
      "text/plain": [
       "count    3.020000e+02\n",
       "mean     2.248445e+05\n",
       "std      1.445652e+05\n",
       "min      1.840000e+03\n",
       "25%      1.450000e+05\n",
       "50%      1.900000e+05\n",
       "75%      2.700000e+05\n",
       "max      1.280000e+06\n",
       "Name: price_paid, dtype: float64"
      ]
     },
     "execution_count": 11,
     "metadata": {},
     "output_type": "execute_result"
    }
   ],
   "source": [
    "df_21['price_paid'].describe()"
   ]
  },
  {
   "cell_type": "markdown",
   "id": "25e4fb77",
   "metadata": {},
   "source": [
    "## 1. Linear Regression Model"
   ]
  },
  {
   "cell_type": "code",
   "execution_count": 14,
   "id": "8a95b065",
   "metadata": {},
   "outputs": [],
   "source": [
    "### Build Model based on the relationship between price paid and area\n",
    "\n",
    "# Training data\n",
    "X = np.array(df_21['total_floor_area'])\n",
    "X = X.reshape(-1, 1)\n",
    "\n",
    "# Target data\n",
    "y = np.array(df_21['price_paid'].values)\n",
    "y = y.reshape(-1, 1)\n",
    "\n",
    "X_train, X_test, y_train, y_test = train_test_split(X, y, test_size=0.2, random_state=0)\n",
    "\n",
    "regressor = LinearRegression()\n",
    "regressor.fit(X_train, y_train)\n",
    "\n",
    "y_pred = regressor.predict(X_test)"
   ]
  },
  {
   "cell_type": "code",
   "execution_count": 15,
   "id": "e945424c",
   "metadata": {},
   "outputs": [
    {
     "data": {
      "text/plain": [
       "array([[122582.11016175]])"
      ]
     },
     "execution_count": 15,
     "metadata": {},
     "output_type": "execute_result"
    }
   ],
   "source": [
    "test = np.array([50])\n",
    "test = test.reshape(-1,1)\n",
    "regressor.predict(test)"
   ]
  },
  {
   "cell_type": "code",
   "execution_count": 17,
   "id": "88918ed2",
   "metadata": {},
   "outputs": [
    {
     "name": "stderr",
     "output_type": "stream",
     "text": [
      "/tmp/ipykernel_557483/1637155546.py:4: UserWarning: color is redundantly defined by the 'color' keyword argument and the fmt string \"k-\" (-> color='k'). The keyword argument will take precedence.\n",
      "  plt.plot(X_test,y_pred, 'k-', color = 'r')\n"
     ]
    },
    {
     "data": {
      "image/png": "[encoded data removed]",
      "text/plain": [
       "<Figure size 432x288 with 1 Axes>"
      ]
     },
     "metadata": {
      "needs_background": "light"
     },
     "output_type": "display_data"
    },
    {
     "name": "stdout",
     "output_type": "stream",
     "text": [
      "Coefficients: \n",
      " [[2510.88870364]]\n",
      "Mean squared error: 4416832774.99\n",
      "Coefficient of determination: 0.60\n",
      "MAPE: 0.40\n"
     ]
    }
   ],
   "source": [
    "# Plot linear regression\n",
    "\n",
    "plt.scatter(df_21['total_floor_area'],df_21['price_paid'])\n",
    "plt.plot(X_test,y_pred, 'k-', color = 'r')\n",
    "plt.show()\n",
    "\n",
    "# The coefficients\n",
    "print(\"Coefficients: \\n\", regressor.coef_)\n",
    "# The mean squared error\n",
    "print(\"Mean squared error: %.2f\" % mean_squared_error(y_test, y_pred))\n",
    "# The coefficient of determination: 1 is perfect prediction\n",
    "print(\"Coefficient of determination: %.2f\" % r2_score(y_test, y_pred))\n",
    "# The mean absolute percentage error\n",
    "print(\"MAPE: %.2f\" % mean_absolute_percentage_error(y_test, y_pred))"
   ]
  },
  {
   "cell_type": "markdown",
   "id": "bea4750a",
   "metadata": {},
   "source": [
    "### 1.2 Exclude Outliers"
   ]
  },
  {
   "cell_type": "code",
   "execution_count": 19,
   "id": "3f379383",
   "metadata": {},
   "outputs": [
    {
     "name": "stderr",
     "output_type": "stream",
     "text": [
      "/tmp/ipykernel_557483/856157725.py:5: UserWarning: Boolean Series key will be reindexed to match DataFrame index.\n",
      "  rm = rm[np.abs(df_21['price_paid']-rm['price_paid'].mean()) <= (3*rm['price_paid'].std())]\n"
     ]
    }
   ],
   "source": [
    "## Can we improve this by removing outliers?\n",
    "# Remove values beyond 3 standard deviations in floor area and price\n",
    "\n",
    "rm = df_21[np.abs(df_21['total_floor_area']-df_21['total_floor_area'].mean()) <= (3*df_21['total_floor_area'].std())]\n",
    "rm = rm[np.abs(df_21['price_paid']-rm['price_paid'].mean()) <= (3*rm['price_paid'].std())]"
   ]
  },
  {
   "cell_type": "code",
   "execution_count": 20,
   "id": "11a30a3a",
   "metadata": {},
   "outputs": [],
   "source": [
    "### Build Model based on the relationship between price paid and area\n",
    "\n",
    "# Training data\n",
    "X = np.array(rm['total_floor_area'])\n",
    "X = X.reshape(-1, 1)\n",
    "\n",
    "# Target data\n",
    "y = np.array(rm['price_paid'].values)\n",
    "y = y.reshape(-1, 1)\n",
    "\n",
    "X_train, X_test, y_train, y_test = train_test_split(X, y, test_size=0.2, random_state=0)\n",
    "\n",
    "lin_regressor = LinearRegression()\n",
    "lin_regressor.fit(X_train, y_train)\n",
    "\n",
    "y_pred = lin_regressor.predict(X_test)"
   ]
  },
  {
   "cell_type": "code",
   "execution_count": 24,
   "id": "0aad4b4c",
   "metadata": {},
   "outputs": [
    {
     "name": "stderr",
     "output_type": "stream",
     "text": [
      "/tmp/ipykernel_132172/894081485.py:4: UserWarning: color is redundantly defined by the 'color' keyword argument and the fmt string \"k-\" (-> color='k'). The keyword argument will take precedence.\n",
      "  plt.plot(X_test,y_pred, 'k-', color = 'r')\n"
     ]
    },
    {
     "data": {
      "image/png": "[encoded data removed]",
      "text/plain": [
       "<Figure size 432x288 with 1 Axes>"
      ]
     },
     "metadata": {
      "needs_background": "light"
     },
     "output_type": "display_data"
    },
    {
     "name": "stdout",
     "output_type": "stream",
     "text": [
      "Coefficients: \n",
      " [[2229.46144111]]\n",
      "Mean squared error: 3084189196.63\n",
      "Coefficient of determination: 0.39\n",
      "MAPE: 0.23\n"
     ]
    }
   ],
   "source": [
    "# Plot linear regression\n",
    "\n",
    "plt.scatter(rm['total-floor-area'],rm['Price Paid'])\n",
    "plt.plot(X_test,y_pred, 'k-', color = 'r')\n",
    "plt.show()\n",
    "\n",
    "# The coefficients\n",
    "print(\"Coefficients: \\n\", lin_regressor.coef_)\n",
    "# The mean squared error\n",
    "print(\"Mean squared error: %.2f\" % mean_squared_error(y_test, y_pred))\n",
    "# The coefficient of determination: 1 is perfect prediction\n",
    "print(\"Coefficient of determination: %.2f\" % r2_score(y_test, y_pred))\n",
    "# The mean absolute percentage error\n",
    "print(\"MAPE: %.2f\" % mean_absolute_percentage_error(y_test, y_pred))"
   ]
  },
  {
   "cell_type": "markdown",
   "id": "e604eec6",
   "metadata": {},
   "source": [
    "Removing outliers (beyond 3 standard deviations) for both Price Paid and total-floor-area significantly decreased the mean squared error (MSE), however, the Coefficient of determination (R-Squared) has increased."
   ]
  },
  {
   "cell_type": "markdown",
   "id": "7350036f",
   "metadata": {},
   "source": [
    "## 2. Multiple Linear Regression Model"
   ]
  },
  {
   "cell_type": "code",
   "execution_count": 21,
   "id": "9d45e922",
   "metadata": {},
   "outputs": [
    {
     "ename": "KeyError",
     "evalue": "'property-type'",
     "output_type": "error",
     "traceback": [
      "\u001b[0;31m---------------------------------------------------------------------------\u001b[0m",
      "\u001b[0;31mKeyError\u001b[0m                                  Traceback (most recent call last)",
      "\u001b[0;32m/usr/local/lib/python3.8/dist-packages/pandas/core/indexes/base.py\u001b[0m in \u001b[0;36mget_loc\u001b[0;34m(self, key, method, tolerance)\u001b[0m\n\u001b[1;32m   3079\u001b[0m             \u001b[0;32mtry\u001b[0m\u001b[0;34m:\u001b[0m\u001b[0;34m\u001b[0m\u001b[0;34m\u001b[0m\u001b[0m\n\u001b[0;32m-> 3080\u001b[0;31m                 \u001b[0;32mreturn\u001b[0m \u001b[0mself\u001b[0m\u001b[0;34m.\u001b[0m\u001b[0m_engine\u001b[0m\u001b[0;34m.\u001b[0m\u001b[0mget_loc\u001b[0m\u001b[0;34m(\u001b[0m\u001b[0mcasted_key\u001b[0m\u001b[0;34m)\u001b[0m\u001b[0;34m\u001b[0m\u001b[0;34m\u001b[0m\u001b[0m\n\u001b[0m\u001b[1;32m   3081\u001b[0m             \u001b[0;32mexcept\u001b[0m \u001b[0mKeyError\u001b[0m \u001b[0;32mas\u001b[0m \u001b[0merr\u001b[0m\u001b[0;34m:\u001b[0m\u001b[0;34m\u001b[0m\u001b[0;34m\u001b[0m\u001b[0m\n",
      "\u001b[0;32mpandas/_libs/index.pyx\u001b[0m in \u001b[0;36mpandas._libs.index.IndexEngine.get_loc\u001b[0;34m()\u001b[0m\n",
      "\u001b[0;32mpandas/_libs/index.pyx\u001b[0m in \u001b[0;36mpandas._libs.index.IndexEngine.get_loc\u001b[0;34m()\u001b[0m\n",
      "\u001b[0;32mpandas/_libs/hashtable_class_helper.pxi\u001b[0m in \u001b[0;36mpandas._libs.hashtable.PyObjectHashTable.get_item\u001b[0;34m()\u001b[0m\n",
      "\u001b[0;32mpandas/_libs/hashtable_class_helper.pxi\u001b[0m in \u001b[0;36mpandas._libs.hashtable.PyObjectHashTable.get_item\u001b[0;34m()\u001b[0m\n",
      "\u001b[0;31mKeyError\u001b[0m: 'property-type'",
      "\nThe above exception was the direct cause of the following exception:\n",
      "\u001b[0;31mKeyError\u001b[0m                                  Traceback (most recent call last)",
      "\u001b[0;32m/tmp/ipykernel_557483/1209191736.py\u001b[0m in \u001b[0;36m<module>\u001b[0;34m\u001b[0m\n\u001b[1;32m      3\u001b[0m \u001b[0;31m## Use one-hot encoding to classify for property type\u001b[0m\u001b[0;34m\u001b[0m\u001b[0;34m\u001b[0m\u001b[0;34m\u001b[0m\u001b[0m\n\u001b[1;32m      4\u001b[0m \u001b[0;34m\u001b[0m\u001b[0m\n\u001b[0;32m----> 5\u001b[0;31m \u001b[0;32mfor\u001b[0m \u001b[0mi\u001b[0m \u001b[0;32min\u001b[0m \u001b[0mdf_21\u001b[0m\u001b[0;34m[\u001b[0m\u001b[0;34m'property-type'\u001b[0m\u001b[0;34m]\u001b[0m\u001b[0;34m.\u001b[0m\u001b[0mdropna\u001b[0m\u001b[0;34m(\u001b[0m\u001b[0;34m)\u001b[0m\u001b[0;34m.\u001b[0m\u001b[0munique\u001b[0m\u001b[0;34m(\u001b[0m\u001b[0;34m)\u001b[0m\u001b[0;34m:\u001b[0m\u001b[0;34m\u001b[0m\u001b[0;34m\u001b[0m\u001b[0m\n\u001b[0m\u001b[1;32m      6\u001b[0m     \u001b[0mvar_name\u001b[0m \u001b[0;34m=\u001b[0m \u001b[0;34m'is'\u001b[0m\u001b[0;34m+\u001b[0m\u001b[0mi\u001b[0m\u001b[0;34m\u001b[0m\u001b[0;34m\u001b[0m\u001b[0m\n\u001b[1;32m      7\u001b[0m     \u001b[0mdf_21\u001b[0m\u001b[0;34m[\u001b[0m\u001b[0mvar_name\u001b[0m\u001b[0;34m]\u001b[0m \u001b[0;34m=\u001b[0m \u001b[0mnp\u001b[0m\u001b[0;34m.\u001b[0m\u001b[0mwhere\u001b[0m\u001b[0;34m(\u001b[0m\u001b[0mdf_21\u001b[0m\u001b[0;34m[\u001b[0m\u001b[0;34m'property-type'\u001b[0m\u001b[0;34m]\u001b[0m\u001b[0;34m==\u001b[0m\u001b[0mi\u001b[0m\u001b[0;34m,\u001b[0m\u001b[0;36m1\u001b[0m\u001b[0;34m,\u001b[0m\u001b[0;36m0\u001b[0m\u001b[0;34m)\u001b[0m\u001b[0;34m\u001b[0m\u001b[0;34m\u001b[0m\u001b[0m\n",
      "\u001b[0;32m/usr/local/lib/python3.8/dist-packages/pandas/core/frame.py\u001b[0m in \u001b[0;36m__getitem__\u001b[0;34m(self, key)\u001b[0m\n\u001b[1;32m   3022\u001b[0m             \u001b[0;32mif\u001b[0m \u001b[0mself\u001b[0m\u001b[0;34m.\u001b[0m\u001b[0mcolumns\u001b[0m\u001b[0;34m.\u001b[0m\u001b[0mnlevels\u001b[0m \u001b[0;34m>\u001b[0m \u001b[0;36m1\u001b[0m\u001b[0;34m:\u001b[0m\u001b[0;34m\u001b[0m\u001b[0;34m\u001b[0m\u001b[0m\n\u001b[1;32m   3023\u001b[0m                 \u001b[0;32mreturn\u001b[0m \u001b[0mself\u001b[0m\u001b[0;34m.\u001b[0m\u001b[0m_getitem_multilevel\u001b[0m\u001b[0;34m(\u001b[0m\u001b[0mkey\u001b[0m\u001b[0;34m)\u001b[0m\u001b[0;34m\u001b[0m\u001b[0;34m\u001b[0m\u001b[0m\n\u001b[0;32m-> 3024\u001b[0;31m             \u001b[0mindexer\u001b[0m \u001b[0;34m=\u001b[0m \u001b[0mself\u001b[0m\u001b[0;34m.\u001b[0m\u001b[0mcolumns\u001b[0m\u001b[0;34m.\u001b[0m\u001b[0mget_loc\u001b[0m\u001b[0;34m(\u001b[0m\u001b[0mkey\u001b[0m\u001b[0;34m)\u001b[0m\u001b[0;34m\u001b[0m\u001b[0;34m\u001b[0m\u001b[0m\n\u001b[0m\u001b[1;32m   3025\u001b[0m             \u001b[0;32mif\u001b[0m \u001b[0mis_integer\u001b[0m\u001b[0;34m(\u001b[0m\u001b[0mindexer\u001b[0m\u001b[0;34m)\u001b[0m\u001b[0;34m:\u001b[0m\u001b[0;34m\u001b[0m\u001b[0;34m\u001b[0m\u001b[0m\n\u001b[1;32m   3026\u001b[0m                 \u001b[0mindexer\u001b[0m \u001b[0;34m=\u001b[0m \u001b[0;34m[\u001b[0m\u001b[0mindexer\u001b[0m\u001b[0;34m]\u001b[0m\u001b[0;34m\u001b[0m\u001b[0;34m\u001b[0m\u001b[0m\n",
      "\u001b[0;32m/usr/local/lib/python3.8/dist-packages/pandas/core/indexes/base.py\u001b[0m in \u001b[0;36mget_loc\u001b[0;34m(self, key, method, tolerance)\u001b[0m\n\u001b[1;32m   3080\u001b[0m                 \u001b[0;32mreturn\u001b[0m \u001b[0mself\u001b[0m\u001b[0;34m.\u001b[0m\u001b[0m_engine\u001b[0m\u001b[0;34m.\u001b[0m\u001b[0mget_loc\u001b[0m\u001b[0;34m(\u001b[0m\u001b[0mcasted_key\u001b[0m\u001b[0;34m)\u001b[0m\u001b[0;34m\u001b[0m\u001b[0;34m\u001b[0m\u001b[0m\n\u001b[1;32m   3081\u001b[0m             \u001b[0;32mexcept\u001b[0m \u001b[0mKeyError\u001b[0m \u001b[0;32mas\u001b[0m \u001b[0merr\u001b[0m\u001b[0;34m:\u001b[0m\u001b[0;34m\u001b[0m\u001b[0;34m\u001b[0m\u001b[0m\n\u001b[0;32m-> 3082\u001b[0;31m                 \u001b[0;32mraise\u001b[0m \u001b[0mKeyError\u001b[0m\u001b[0;34m(\u001b[0m\u001b[0mkey\u001b[0m\u001b[0;34m)\u001b[0m \u001b[0;32mfrom\u001b[0m \u001b[0merr\u001b[0m\u001b[0;34m\u001b[0m\u001b[0;34m\u001b[0m\u001b[0m\n\u001b[0m\u001b[1;32m   3083\u001b[0m \u001b[0;34m\u001b[0m\u001b[0m\n\u001b[1;32m   3084\u001b[0m         \u001b[0;32mif\u001b[0m \u001b[0mtolerance\u001b[0m \u001b[0;32mis\u001b[0m \u001b[0;32mnot\u001b[0m \u001b[0;32mNone\u001b[0m\u001b[0;34m:\u001b[0m\u001b[0;34m\u001b[0m\u001b[0;34m\u001b[0m\u001b[0m\n",
      "\u001b[0;31mKeyError\u001b[0m: 'property-type'"
     ]
    }
   ],
   "source": [
    "### Adjust features and data format\n",
    "\n",
    "## Use one-hot encoding to classify for property type\n",
    "\n",
    "for i in df_21['property-type'].dropna().unique():\n",
    "    var_name = 'is'+i\n",
    "    df_21[var_name] = np.where(df_21['property-type']==i,1,0)\n",
    "    \n",
    "## Convert categorical to numerical\n",
    "\n",
    "\n",
    "rating_dict = {\n",
    "    'A':1,\n",
    "    'B':2,\n",
    "    'C':3,\n",
    "    'D':4,\n",
    "    'E':5,\n",
    "    'F':6, \n",
    "    'G':7\n",
    "}\n",
    "\n",
    "# Replace null values with most frequent value\n",
    "mode_val = df_21['current-energy-rating'].value_counts().index[0]\n",
    "df_21['current-energy-rating'] = df_21['current-energy-rating'].fillna(value = mode_val)\n",
    "df_21['rating_num'] = df_21['current-energy-rating'].apply(lambda x: rating_dict[x])\n",
    "\n",
    "## Number of Habitable Rooms\n",
    "# Replace null values with median\n",
    "\n",
    "def clean_rooms(x):\n",
    "    if isinstance(x,float):\n",
    "        return x\n",
    "    else:\n",
    "        return np.nan\n",
    "    \n",
    "df_21['number-habitable-rooms'] = df_21['number-habitable-rooms'].apply(clean_rooms)\n",
    "med_val = np.median(df_21['number-habitable-rooms'].dropna())\n",
    "\n",
    "df_21['number-habitable-rooms'] = df_21['number-habitable-rooms'].fillna(value = med_val)\n",
    "\n",
    "df_21['room-size'] = df_21['total-floor-area']/df_21['number-habitable-rooms']\n"
   ]
  },
  {
   "cell_type": "code",
   "execution_count": 15,
   "id": "0fbfd2ad",
   "metadata": {
    "scrolled": true
   },
   "outputs": [
    {
     "name": "stderr",
     "output_type": "stream",
     "text": [
      "/tmp/ipykernel_132172/3866665377.py:3: SettingWithCopyWarning: \n",
      "A value is trying to be set on a copy of a slice from a DataFrame.\n",
      "Try using .loc[row_indexer,col_indexer] = value instead\n",
      "\n",
      "See the caveats in the documentation: https://pandas.pydata.org/pandas-docs/stable/user_guide/indexing.html#returning-a-view-versus-a-copy\n",
      "  df_21['lat'], df_21['long'] = PostcodeGeocode((df_21['postcode']))\n",
      "/tmp/ipykernel_132172/3866665377.py:5: SettingWithCopyWarning: \n",
      "A value is trying to be set on a copy of a slice from a DataFrame.\n",
      "Try using .loc[row_indexer,col_indexer] = value instead\n",
      "\n",
      "See the caveats in the documentation: https://pandas.pydata.org/pandas-docs/stable/user_guide/indexing.html#returning-a-view-versus-a-copy\n",
      "  df_21['lat'] = df_21['lat'].astype(float)\n",
      "/tmp/ipykernel_132172/3866665377.py:7: SettingWithCopyWarning: \n",
      "A value is trying to be set on a copy of a slice from a DataFrame.\n",
      "Try using .loc[row_indexer,col_indexer] = value instead\n",
      "\n",
      "See the caveats in the documentation: https://pandas.pydata.org/pandas-docs/stable/user_guide/indexing.html#returning-a-view-versus-a-copy\n",
      "  df_21['long'] = df_21['long'].astype(float)\n",
      "/tmp/ipykernel_132172/3866665377.py:23: SettingWithCopyWarning: \n",
      "A value is trying to be set on a copy of a slice from a DataFrame.\n",
      "Try using .loc[row_indexer,col_indexer] = value instead\n",
      "\n",
      "See the caveats in the documentation: https://pandas.pydata.org/pandas-docs/stable/user_guide/indexing.html#returning-a-view-versus-a-copy\n",
      "  df_21['distance-station'] = list(map(distance_station,df_21['lat'],df_21['long']))\n",
      "/tmp/ipykernel_132172/3866665377.py:24: SettingWithCopyWarning: \n",
      "A value is trying to be set on a copy of a slice from a DataFrame.\n",
      "Try using .loc[row_indexer,col_indexer] = value instead\n",
      "\n",
      "See the caveats in the documentation: https://pandas.pydata.org/pandas-docs/stable/user_guide/indexing.html#returning-a-view-versus-a-copy\n",
      "  df_21['distance-town'] = list(map(distance_town,df_21['lat'],df_21['long']))\n"
     ]
    }
   ],
   "source": [
    "### Geocode the postcode\n",
    "\n",
    "df_21['lat'], df_21['long'] = PostcodeGeocode((df_21['postcode']))\n",
    "\n",
    "df_21['lat'] = df_21['lat'].astype(float)\n",
    "\n",
    "df_21['long'] = df_21['long'].astype(float)\n",
    "\n",
    "### Identify distance from Railway Station/Town Centre\n",
    "\n",
    "chester_station = [53.196502, -2.880304]\n",
    "\n",
    "chester_town = [53.190249, -2.891639]\n",
    "\n",
    "# Returns distance in degrees using simple euclidean distance\n",
    "\n",
    "def distance_station(lat,long, feature = chester_station):\n",
    "    return math.sqrt((feature[0]-lat)**2 + (feature[1]-long)**2)\n",
    "\n",
    "def distance_town(lat,long, feature = chester_town):\n",
    "    return math.sqrt((feature[0]-lat)**2 + (feature[1]-long)**2)\n",
    "\n",
    "df_21['distance-station'] = list(map(distance_station,df_21['lat'],df_21['long']))\n",
    "df_21['distance-town'] = list(map(distance_town,df_21['lat'],df_21['long']))\n"
   ]
  },
  {
   "cell_type": "code",
   "execution_count": 52,
   "id": "18226b70",
   "metadata": {},
   "outputs": [
    {
     "name": "stdout",
     "output_type": "stream",
     "text": [
      "Coefficients: \n",
      " [[  2071.6044139  -23562.31110892   1692.45658481   1217.36340565\n",
      "    7665.300791  ]]\n",
      "Mean squared error: 5213037367.14\n",
      "Coefficient of determination: 0.49\n",
      "MAPE: 0.34\n"
     ]
    }
   ],
   "source": [
    "### Build Model based on the relationship between price paid and area\n",
    "\n",
    "# Training data\n",
    "X = np.array(df_21[['total-floor-area','isHouse','isFlat','rating_num','room-size']])\n",
    "\n",
    "\n",
    "# Target data\n",
    "y = np.array(df_21['Price Paid'].values)\n",
    "y = y.reshape(-1, 1)\n",
    "\n",
    "X_train, X_test, y_train, y_test = train_test_split(X, y, test_size=0.2, random_state=0)\n",
    "\n",
    "regressor = LinearRegression()\n",
    "regressor.fit(X_train, y_train)\n",
    "\n",
    "y_pred = regressor.predict(X_test)\n",
    "\n",
    "# The coefficients\n",
    "print(\"Coefficients: \\n\", regressor.coef_)\n",
    "# The mean squared error\n",
    "print(\"Mean squared error: %.2f\" % mean_squared_error(y_test, y_pred))\n",
    "# The coefficient of determination: 1 is perfect prediction\n",
    "print(\"Coefficient of determination: %.2f\" % r2_score(y_test, y_pred))# The mean absolute percentage error\n",
    "print(\"MAPE: %.2f\" % mean_absolute_percentage_error(y_test, y_pred))"
   ]
  },
  {
   "cell_type": "markdown",
   "id": "c025a3a0",
   "metadata": {},
   "source": [
    "Despite engineering a number of additional features to be used in this model, this did not help reduce the mean squared error. In fact, more data only decreased the coefficient of determination and increased the MSE suggesting that adding more data is not going to help improve the prediction. \n",
    "\n",
    "Producing a correlation matrix like the one below can help identify potential linear relationships better than trial and error. It's worth noting that the feature with the second highest correlation score, \"room-size\", is derivative of \"total-floor-area\". While this chart can help identify correlation, it can't warn about multicollinearity. "
   ]
  },
  {
   "cell_type": "code",
   "execution_count": 18,
   "id": "8567c63b",
   "metadata": {},
   "outputs": [
    {
     "data": {
      "text/html": [
       "<style  type=\"text/css\" >\n",
       "#T_a240a_row0_col0,#T_a240a_row1_col1,#T_a240a_row2_col2,#T_a240a_row3_col3,#T_a240a_row4_col4,#T_a240a_row5_col5,#T_a240a_row6_col6{\n",
       "            background-color:  #b40426;\n",
       "            color:  #f1f1f1;\n",
       "        }#T_a240a_row0_col1{\n",
       "            background-color:  #3d50c3;\n",
       "            color:  #f1f1f1;\n",
       "        }#T_a240a_row0_col2,#T_a240a_row0_col3{\n",
       "            background-color:  #506bda;\n",
       "            color:  #000000;\n",
       "        }#T_a240a_row0_col4{\n",
       "            background-color:  #bfd3f6;\n",
       "            color:  #000000;\n",
       "        }#T_a240a_row0_col5{\n",
       "            background-color:  #f7aa8c;\n",
       "            color:  #000000;\n",
       "        }#T_a240a_row0_col6{\n",
       "            background-color:  #f7bca1;\n",
       "            color:  #000000;\n",
       "        }#T_a240a_row1_col0,#T_a240a_row1_col2,#T_a240a_row1_col3,#T_a240a_row1_col5,#T_a240a_row3_col1,#T_a240a_row4_col6,#T_a240a_row6_col4{\n",
       "            background-color:  #3b4cc0;\n",
       "            color:  #f1f1f1;\n",
       "        }#T_a240a_row1_col4{\n",
       "            background-color:  #6a8bef;\n",
       "            color:  #000000;\n",
       "        }#T_a240a_row1_col6{\n",
       "            background-color:  #5a78e4;\n",
       "            color:  #000000;\n",
       "        }#T_a240a_row2_col0{\n",
       "            background-color:  #536edd;\n",
       "            color:  #000000;\n",
       "        }#T_a240a_row2_col1{\n",
       "            background-color:  #3f53c6;\n",
       "            color:  #f1f1f1;\n",
       "        }#T_a240a_row2_col3,#T_a240a_row3_col2{\n",
       "            background-color:  #bd1f2d;\n",
       "            color:  #f1f1f1;\n",
       "        }#T_a240a_row2_col4{\n",
       "            background-color:  #7a9df8;\n",
       "            color:  #000000;\n",
       "        }#T_a240a_row2_col5{\n",
       "            background-color:  #6485ec;\n",
       "            color:  #000000;\n",
       "        }#T_a240a_row2_col6{\n",
       "            background-color:  #779af7;\n",
       "            color:  #000000;\n",
       "        }#T_a240a_row3_col0{\n",
       "            background-color:  #4e68d8;\n",
       "            color:  #000000;\n",
       "        }#T_a240a_row3_col4,#T_a240a_row5_col3{\n",
       "            background-color:  #6f92f3;\n",
       "            color:  #000000;\n",
       "        }#T_a240a_row3_col5,#T_a240a_row6_col3{\n",
       "            background-color:  #6180e9;\n",
       "            color:  #000000;\n",
       "        }#T_a240a_row3_col6{\n",
       "            background-color:  #7ea1fa;\n",
       "            color:  #000000;\n",
       "        }#T_a240a_row4_col0{\n",
       "            background-color:  #a7c5fe;\n",
       "            color:  #000000;\n",
       "        }#T_a240a_row4_col1{\n",
       "            background-color:  #4c66d6;\n",
       "            color:  #000000;\n",
       "        }#T_a240a_row4_col2{\n",
       "            background-color:  #5875e1;\n",
       "            color:  #000000;\n",
       "        }#T_a240a_row4_col3{\n",
       "            background-color:  #516ddb;\n",
       "            color:  #000000;\n",
       "        }#T_a240a_row4_col5{\n",
       "            background-color:  #f4c5ad;\n",
       "            color:  #000000;\n",
       "        }#T_a240a_row5_col0{\n",
       "            background-color:  #f7a688;\n",
       "            color:  #000000;\n",
       "        }#T_a240a_row5_col1{\n",
       "            background-color:  #4961d2;\n",
       "            color:  #f1f1f1;\n",
       "        }#T_a240a_row5_col2{\n",
       "            background-color:  #6e90f2;\n",
       "            color:  #000000;\n",
       "        }#T_a240a_row5_col4{\n",
       "            background-color:  #f7b497;\n",
       "            color:  #000000;\n",
       "        }#T_a240a_row5_col6{\n",
       "            background-color:  #f7ad90;\n",
       "            color:  #000000;\n",
       "        }#T_a240a_row6_col0{\n",
       "            background-color:  #f3c8b2;\n",
       "            color:  #000000;\n",
       "        }#T_a240a_row6_col1{\n",
       "            background-color:  #3c4ec2;\n",
       "            color:  #f1f1f1;\n",
       "        }#T_a240a_row6_col2{\n",
       "            background-color:  #5470de;\n",
       "            color:  #000000;\n",
       "        }#T_a240a_row6_col5{\n",
       "            background-color:  #f6bea4;\n",
       "            color:  #000000;\n",
       "        }</style><table id=\"T_a240a_\" ><thead>    <tr>        <th class=\"blank level0\" ></th>        <th class=\"col_heading level0 col0\" >Price Paid</th>        <th class=\"col_heading level0 col1\" >rating_num</th>        <th class=\"col_heading level0 col2\" >distance-station</th>        <th class=\"col_heading level0 col3\" >distance-town</th>        <th class=\"col_heading level0 col4\" >number-habitable-rooms</th>        <th class=\"col_heading level0 col5\" >total-floor-area</th>        <th class=\"col_heading level0 col6\" >room-size</th>    </tr></thead><tbody>\n",
       "                <tr>\n",
       "                        <th id=\"T_a240a_level0_row0\" class=\"row_heading level0 row0\" >Price Paid</th>\n",
       "                        <td id=\"T_a240a_row0_col0\" class=\"data row0 col0\" >1.000000</td>\n",
       "                        <td id=\"T_a240a_row0_col1\" class=\"data row0 col1\" >0.031377</td>\n",
       "                        <td id=\"T_a240a_row0_col2\" class=\"data row0 col2\" >0.110035</td>\n",
       "                        <td id=\"T_a240a_row0_col3\" class=\"data row0 col3\" >0.094238</td>\n",
       "                        <td id=\"T_a240a_row0_col4\" class=\"data row0 col4\" >0.345912</td>\n",
       "                        <td id=\"T_a240a_row0_col5\" class=\"data row0 col5\" >0.724232</td>\n",
       "                        <td id=\"T_a240a_row0_col6\" class=\"data row0 col6\" >0.625064</td>\n",
       "            </tr>\n",
       "            <tr>\n",
       "                        <th id=\"T_a240a_level0_row1\" class=\"row_heading level0 row1\" >rating_num</th>\n",
       "                        <td id=\"T_a240a_row1_col0\" class=\"data row1 col0\" >0.031377</td>\n",
       "                        <td id=\"T_a240a_row1_col1\" class=\"data row1 col1\" >1.000000</td>\n",
       "                        <td id=\"T_a240a_row1_col2\" class=\"data row1 col2\" >0.039032</td>\n",
       "                        <td id=\"T_a240a_row1_col3\" class=\"data row1 col3\" >0.022530</td>\n",
       "                        <td id=\"T_a240a_row1_col4\" class=\"data row1 col4\" >0.079824</td>\n",
       "                        <td id=\"T_a240a_row1_col5\" class=\"data row1 col5\" >0.069603</td>\n",
       "                        <td id=\"T_a240a_row1_col6\" class=\"data row1 col6\" >0.029301</td>\n",
       "            </tr>\n",
       "            <tr>\n",
       "                        <th id=\"T_a240a_level0_row2\" class=\"row_heading level0 row2\" >distance-station</th>\n",
       "                        <td id=\"T_a240a_row2_col0\" class=\"data row2 col0\" >0.110035</td>\n",
       "                        <td id=\"T_a240a_row2_col1\" class=\"data row2 col1\" >0.039032</td>\n",
       "                        <td id=\"T_a240a_row2_col2\" class=\"data row2 col2\" >1.000000</td>\n",
       "                        <td id=\"T_a240a_row2_col3\" class=\"data row2 col3\" >0.975299</td>\n",
       "                        <td id=\"T_a240a_row2_col4\" class=\"data row2 col4\" >0.129921</td>\n",
       "                        <td id=\"T_a240a_row2_col5\" class=\"data row2 col5\" >0.194524</td>\n",
       "                        <td id=\"T_a240a_row2_col6\" class=\"data row2 col6\" >0.120107</td>\n",
       "            </tr>\n",
       "            <tr>\n",
       "                        <th id=\"T_a240a_level0_row3\" class=\"row_heading level0 row3\" >distance-town</th>\n",
       "                        <td id=\"T_a240a_row3_col0\" class=\"data row3 col0\" >0.094238</td>\n",
       "                        <td id=\"T_a240a_row3_col1\" class=\"data row3 col1\" >0.022530</td>\n",
       "                        <td id=\"T_a240a_row3_col2\" class=\"data row3 col2\" >0.975299</td>\n",
       "                        <td id=\"T_a240a_row3_col3\" class=\"data row3 col3\" >1.000000</td>\n",
       "                        <td id=\"T_a240a_row3_col4\" class=\"data row3 col4\" >0.095313</td>\n",
       "                        <td id=\"T_a240a_row3_col5\" class=\"data row3 col5\" >0.185486</td>\n",
       "                        <td id=\"T_a240a_row3_col6\" class=\"data row3 col6\" >0.142080</td>\n",
       "            </tr>\n",
       "            <tr>\n",
       "                        <th id=\"T_a240a_level0_row4\" class=\"row_heading level0 row4\" >number-habitable-rooms</th>\n",
       "                        <td id=\"T_a240a_row4_col0\" class=\"data row4 col0\" >0.345912</td>\n",
       "                        <td id=\"T_a240a_row4_col1\" class=\"data row4 col1\" >0.079824</td>\n",
       "                        <td id=\"T_a240a_row4_col2\" class=\"data row4 col2\" >0.129921</td>\n",
       "                        <td id=\"T_a240a_row4_col3\" class=\"data row4 col3\" >0.095313</td>\n",
       "                        <td id=\"T_a240a_row4_col4\" class=\"data row4 col4\" >1.000000</td>\n",
       "                        <td id=\"T_a240a_row4_col5\" class=\"data row4 col5\" >0.650467</td>\n",
       "                        <td id=\"T_a240a_row4_col6\" class=\"data row4 col6\" >-0.085040</td>\n",
       "            </tr>\n",
       "            <tr>\n",
       "                        <th id=\"T_a240a_level0_row5\" class=\"row_heading level0 row5\" >total-floor-area</th>\n",
       "                        <td id=\"T_a240a_row5_col0\" class=\"data row5 col0\" >0.724232</td>\n",
       "                        <td id=\"T_a240a_row5_col1\" class=\"data row5 col1\" >0.069603</td>\n",
       "                        <td id=\"T_a240a_row5_col2\" class=\"data row5 col2\" >0.194524</td>\n",
       "                        <td id=\"T_a240a_row5_col3\" class=\"data row5 col3\" >0.185486</td>\n",
       "                        <td id=\"T_a240a_row5_col4\" class=\"data row5 col4\" >0.650467</td>\n",
       "                        <td id=\"T_a240a_row5_col5\" class=\"data row5 col5\" >1.000000</td>\n",
       "                        <td id=\"T_a240a_row5_col6\" class=\"data row5 col6\" >0.672428</td>\n",
       "            </tr>\n",
       "            <tr>\n",
       "                        <th id=\"T_a240a_level0_row6\" class=\"row_heading level0 row6\" >room-size</th>\n",
       "                        <td id=\"T_a240a_row6_col0\" class=\"data row6 col0\" >0.625064</td>\n",
       "                        <td id=\"T_a240a_row6_col1\" class=\"data row6 col1\" >0.029301</td>\n",
       "                        <td id=\"T_a240a_row6_col2\" class=\"data row6 col2\" >0.120107</td>\n",
       "                        <td id=\"T_a240a_row6_col3\" class=\"data row6 col3\" >0.142080</td>\n",
       "                        <td id=\"T_a240a_row6_col4\" class=\"data row6 col4\" >-0.085040</td>\n",
       "                        <td id=\"T_a240a_row6_col5\" class=\"data row6 col5\" >0.672428</td>\n",
       "                        <td id=\"T_a240a_row6_col6\" class=\"data row6 col6\" >1.000000</td>\n",
       "            </tr>\n",
       "    </tbody></table>"
      ],
      "text/plain": [
       "<pandas.io.formats.style.Styler at 0x7f137e9544c0>"
      ]
     },
     "execution_count": 18,
     "metadata": {},
     "output_type": "execute_result"
    }
   ],
   "source": [
    "### Plot a correlation matrix\n",
    "\n",
    "## Focus on specific numeric attributes\n",
    "\n",
    "attributes = df_21[['Price Paid','rating_num','distance-station','distance-town','number-habitable-rooms','total-floor-area','room-size']]\n",
    "\n",
    "corr = attributes.corr()\n",
    "corr.style.background_gradient(cmap='coolwarm')"
   ]
  },
  {
   "cell_type": "markdown",
   "id": "32461c82",
   "metadata": {},
   "source": [
    "## 3. Random Forest Regressor"
   ]
  },
  {
   "cell_type": "code",
   "execution_count": 90,
   "id": "d46e9e82",
   "metadata": {},
   "outputs": [
    {
     "name": "stderr",
     "output_type": "stream",
     "text": [
      "/tmp/ipykernel_132172/2953273281.py:15: DataConversionWarning: A column-vector y was passed when a 1d array was expected. Please change the shape of y to (n_samples,), for example using ravel().\n",
      "  regr.fit(X_train, y_train)\n"
     ]
    },
    {
     "name": "stdout",
     "output_type": "stream",
     "text": [
      "Mean squared error: 9790521761.06\n",
      "Coefficient of Determination: 0.05\n",
      "MAPE: 0.24\n"
     ]
    }
   ],
   "source": [
    "### Set up Random Forest model\n",
    "\n",
    "# Training data\n",
    "X = np.array(df_21[['total-floor-area','isHouse','isFlat','isBungalow','isMaisonette','rating_num','room-size','distance-station','distance-town']])\n",
    "\n",
    "\n",
    "# Target data\n",
    "y = np.array(df_21['Price Paid'].values)\n",
    "y = y.reshape(-1, 1)\n",
    "\n",
    "X_train, X_test, y_train, y_test = train_test_split(X, y, test_size=0.2, random_state=0)\n",
    "\n",
    "regr = RandomForestRegressor(max_depth = 100)\n",
    "\n",
    "regr.fit(X_train, y_train)\n",
    "\n",
    "y_pred = regr.predict(X_test)\n",
    "# The mean squared error\n",
    "print(\"Mean squared error: %.2f\" % mean_squared_error(y_test, y_pred))\n",
    "print(\"Coefficient of Determination: %.2f\" % regr.score(X_test, y_test))\n",
    "\n",
    "# The mean absolute percentage error\n",
    "print(\"MAPE: %.2f\" % mean_absolute_percentage_error(y_test, y_pred))"
   ]
  },
  {
   "cell_type": "code",
   "execution_count": 91,
   "id": "a54c9216",
   "metadata": {},
   "outputs": [
    {
     "name": "stderr",
     "output_type": "stream",
     "text": [
      "/tmp/ipykernel_132172/358704791.py:6: SettingWithCopyWarning: \n",
      "A value is trying to be set on a copy of a slice from a DataFrame.\n",
      "Try using .loc[row_indexer,col_indexer] = value instead\n",
      "\n",
      "See the caveats in the documentation: https://pandas.pydata.org/pandas-docs/stable/user_guide/indexing.html#returning-a-view-versus-a-copy\n",
      "  df_21['predicted Price Paid'] = lin_regressor.predict(arr)\n",
      "/tmp/ipykernel_132172/358704791.py:8: SettingWithCopyWarning: \n",
      "A value is trying to be set on a copy of a slice from a DataFrame.\n",
      "Try using .loc[row_indexer,col_indexer] = value instead\n",
      "\n",
      "See the caveats in the documentation: https://pandas.pydata.org/pandas-docs/stable/user_guide/indexing.html#returning-a-view-versus-a-copy\n",
      "  df_21['Price Paid Difference'] = df_21['predicted Price Paid']-df_21['Price Paid']\n",
      "/tmp/ipykernel_132172/358704791.py:10: SettingWithCopyWarning: \n",
      "A value is trying to be set on a copy of a slice from a DataFrame.\n",
      "Try using .loc[row_indexer,col_indexer] = value instead\n",
      "\n",
      "See the caveats in the documentation: https://pandas.pydata.org/pandas-docs/stable/user_guide/indexing.html#returning-a-view-versus-a-copy\n",
      "  df_21['Pct Difference'] = (df_21['Price Paid Difference']/df_21['Price Paid'])*100\n"
     ]
    }
   ],
   "source": [
    "# Change to predict percent difference from the linear prediction\n",
    "\n",
    "arr = np.array(df_21['total-floor-area'].values)\n",
    "arr = arr.reshape(-1, 1)\n",
    "\n",
    "df_21['predicted Price Paid'] = lin_regressor.predict(arr)\n",
    "\n",
    "df_21['Price Paid Difference'] = df_21['predicted Price Paid']-df_21['Price Paid']\n",
    "\n",
    "df_21['Pct Difference'] = (df_21['Price Paid Difference']/df_21['Price Paid'])*100"
   ]
  },
  {
   "cell_type": "code",
   "execution_count": 93,
   "id": "816469da",
   "metadata": {},
   "outputs": [
    {
     "data": {
      "text/html": [
       "<div>\n",
       "<style scoped>\n",
       "    .dataframe tbody tr th:only-of-type {\n",
       "        vertical-align: middle;\n",
       "    }\n",
       "\n",
       "    .dataframe tbody tr th {\n",
       "        vertical-align: top;\n",
       "    }\n",
       "\n",
       "    .dataframe thead th {\n",
       "        text-align: right;\n",
       "    }\n",
       "</style>\n",
       "<table border=\"1\" class=\"dataframe\">\n",
       "  <thead>\n",
       "    <tr style=\"text-align: right;\">\n",
       "      <th></th>\n",
       "      <th>Price Paid Difference</th>\n",
       "      <th>predicted Price Paid</th>\n",
       "      <th>Price Paid</th>\n",
       "      <th>Pct Difference</th>\n",
       "    </tr>\n",
       "  </thead>\n",
       "  <tbody>\n",
       "    <tr>\n",
       "      <th>20734</th>\n",
       "      <td>-12923.641353</td>\n",
       "      <td>319076.358647</td>\n",
       "      <td>332000</td>\n",
       "      <td>-3.892663</td>\n",
       "    </tr>\n",
       "    <tr>\n",
       "      <th>22635</th>\n",
       "      <td>-33674.326554</td>\n",
       "      <td>156325.673446</td>\n",
       "      <td>190000</td>\n",
       "      <td>-17.723330</td>\n",
       "    </tr>\n",
       "    <tr>\n",
       "      <th>22809</th>\n",
       "      <td>17798.745501</td>\n",
       "      <td>267798.745501</td>\n",
       "      <td>250000</td>\n",
       "      <td>7.119498</td>\n",
       "    </tr>\n",
       "    <tr>\n",
       "      <th>23223</th>\n",
       "      <td>82603.286591</td>\n",
       "      <td>207603.286591</td>\n",
       "      <td>125000</td>\n",
       "      <td>66.082629</td>\n",
       "    </tr>\n",
       "    <tr>\n",
       "      <th>23350</th>\n",
       "      <td>-17201.254499</td>\n",
       "      <td>267798.745501</td>\n",
       "      <td>285000</td>\n",
       "      <td>-6.035528</td>\n",
       "    </tr>\n",
       "  </tbody>\n",
       "</table>\n",
       "</div>"
      ],
      "text/plain": [
       "       Price Paid Difference  predicted Price Paid  Price Paid  Pct Difference\n",
       "20734          -12923.641353         319076.358647      332000       -3.892663\n",
       "22635          -33674.326554         156325.673446      190000      -17.723330\n",
       "22809           17798.745501         267798.745501      250000        7.119498\n",
       "23223           82603.286591         207603.286591      125000       66.082629\n",
       "23350          -17201.254499         267798.745501      285000       -6.035528"
      ]
     },
     "execution_count": 93,
     "metadata": {},
     "output_type": "execute_result"
    }
   ],
   "source": [
    "df_21[['Price Paid Difference','predicted Price Paid','Price Paid','Pct Difference']].head()"
   ]
  },
  {
   "cell_type": "code",
   "execution_count": 84,
   "id": "8fdc5c1d",
   "metadata": {},
   "outputs": [
    {
     "name": "stdout",
     "output_type": "stream",
     "text": [
      "url\n",
      "Price Paid\n",
      "Transaction Date\n",
      "Transaction Id\n",
      "Type\n",
      "About\n",
      "PAON\n",
      "Postcode\n",
      "Street Name\n",
      "datetime\n",
      "year\n",
      "postcode_number\n",
      "lmk-key\n",
      "address1\n",
      "address2\n",
      "address3\n",
      "postcode\n",
      "building-reference-number\n",
      "current-energy-rating\n",
      "potential-energy-rating\n",
      "current-energy-efficiency\n",
      "potential-energy-efficiency\n",
      "property-type\n",
      "built-form\n",
      "inspection-date\n",
      "local-authority\n",
      "constituency\n",
      "county\n",
      "lodgement-date\n",
      "transaction-type\n",
      "environment-impact-current\n",
      "environment-impact-potential\n",
      "energy-consumption-current\n",
      "energy-consumption-potential\n",
      "co2-emissions-current\n",
      "co2-emiss-curr-per-floor-area\n",
      "co2-emissions-potential\n",
      "lighting-cost-current\n",
      "lighting-cost-potential\n",
      "heating-cost-current\n",
      "heating-cost-potential\n",
      "hot-water-cost-current\n",
      "hot-water-cost-potential\n",
      "total-floor-area\n",
      "energy-tariff\n",
      "mains-gas-flag\n",
      "floor-level\n",
      "flat-top-storey\n",
      "flat-storey-count\n",
      "main-heating-controls\n",
      "multi-glaze-proportion\n",
      "glazed-type\n",
      "glazed-area\n",
      "extension-count\n",
      "number-habitable-rooms\n",
      "number-heated-rooms\n",
      "low-energy-lighting\n",
      "number-open-fireplaces\n",
      "hotwater-description\n",
      "hot-water-energy-eff\n",
      "hot-water-env-eff\n",
      "floor-description\n",
      "floor-energy-eff\n",
      "floor-env-eff\n",
      "windows-description\n",
      "windows-energy-eff\n",
      "windows-env-eff\n",
      "walls-description\n",
      "walls-energy-eff\n",
      "walls-env-eff\n",
      "secondheat-description\n",
      "sheating-energy-eff\n",
      "sheating-env-eff\n",
      "roof-description\n",
      "roof-energy-eff\n",
      "roof-env-eff\n",
      "mainheat-description\n",
      "mainheat-energy-eff\n",
      "mainheat-env-eff\n",
      "mainheatcont-description\n",
      "mainheatc-energy-eff\n",
      "mainheatc-env-eff\n",
      "lighting-description\n",
      "lighting-energy-eff\n",
      "lighting-env-eff\n",
      "main-fuel\n",
      "wind-turbine-count\n",
      "heat-loss-corridor\n",
      "unheated-corridor-length\n",
      "floor-height\n",
      "photo-supply\n",
      "solar-water-heating-flag\n",
      "mechanical-ventilation\n",
      "address\n",
      "local-authority-label\n",
      "constituency-label\n",
      "posttown\n",
      "construction-age-band\n",
      "lodgement-datetime\n",
      "tenure\n",
      "fixed-lighting-outlets-count\n",
      "low-energy-fixed-light-count\n",
      "uprn\n",
      "uprn-source\n",
      "house/number\n",
      "isHouse\n",
      "isFlat\n",
      "isBungalow\n",
      "isMaisonette\n",
      "rating_num\n",
      "room-size\n",
      "lat\n",
      "long\n",
      "distance-station\n",
      "distance-town\n",
      "predicted Price Paid\n",
      "Price Paid Difference\n"
     ]
    }
   ],
   "source": [
    "for i in df_21.columns:\n",
    "    print(i)"
   ]
  },
  {
   "cell_type": "code",
   "execution_count": 103,
   "id": "cab86d74",
   "metadata": {},
   "outputs": [
    {
     "name": "stderr",
     "output_type": "stream",
     "text": [
      "/tmp/ipykernel_132172/2465052643.py:15: DataConversionWarning: A column-vector y was passed when a 1d array was expected. Please change the shape of y to (n_samples,), for example using ravel().\n",
      "  regr.fit(X_train, y_train)\n"
     ]
    },
    {
     "name": "stdout",
     "output_type": "stream",
     "text": [
      "Mean squared error: 1268.19\n",
      "Coefficient of Determination: 0.19\n",
      "MAPE: 1.55\n"
     ]
    }
   ],
   "source": [
    "### Set up Random Forest model\n",
    "\n",
    "# Training data\n",
    "X = np.array(df_21[['isHouse','isFlat','rating_num','room-size']])\n",
    "\n",
    "\n",
    "# Target data\n",
    "y = np.array(df_21['Pct Difference'].values)\n",
    "y = y.reshape(-1, 1)\n",
    "\n",
    "X_train, X_test, y_train, y_test = train_test_split(X, y, test_size=0.2, random_state=0)\n",
    "\n",
    "regr = RandomForestRegressor(max_depth = 100, bootstrap = True)\n",
    "\n",
    "regr.fit(X_train, y_train)\n",
    "\n",
    "y_pred = regr.predict(X_test)\n",
    "\n",
    "print(\"Mean squared error: %.2f\" % mean_squared_error(y_test, y_pred))\n",
    "\n",
    "print(\"Coefficient of Determination: %.2f\" % regr.score(X_test, y_test))\n",
    "\n",
    "# The mean absolute percentage error\n",
    "print(\"MAPE: %.2f\" % mean_absolute_percentage_error(y_test, y_pred))"
   ]
  },
  {
   "cell_type": "code",
   "execution_count": 104,
   "id": "7f4d95e7",
   "metadata": {},
   "outputs": [
    {
     "data": {
      "text/html": [
       "<div>\n",
       "<style scoped>\n",
       "    .dataframe tbody tr th:only-of-type {\n",
       "        vertical-align: middle;\n",
       "    }\n",
       "\n",
       "    .dataframe tbody tr th {\n",
       "        vertical-align: top;\n",
       "    }\n",
       "\n",
       "    .dataframe thead th {\n",
       "        text-align: right;\n",
       "    }\n",
       "</style>\n",
       "<table border=\"1\" class=\"dataframe\">\n",
       "  <thead>\n",
       "    <tr style=\"text-align: right;\">\n",
       "      <th></th>\n",
       "      <th>isHouse</th>\n",
       "      <th>isFlat</th>\n",
       "      <th>rating_num</th>\n",
       "      <th>room-size</th>\n",
       "      <th>Pct Difference</th>\n",
       "    </tr>\n",
       "  </thead>\n",
       "  <tbody>\n",
       "    <tr>\n",
       "      <th>20734</th>\n",
       "      <td>1</td>\n",
       "      <td>0</td>\n",
       "      <td>3</td>\n",
       "      <td>22.666667</td>\n",
       "      <td>-3.892663</td>\n",
       "    </tr>\n",
       "    <tr>\n",
       "      <th>22635</th>\n",
       "      <td>0</td>\n",
       "      <td>1</td>\n",
       "      <td>3</td>\n",
       "      <td>12.600000</td>\n",
       "      <td>-17.723330</td>\n",
       "    </tr>\n",
       "    <tr>\n",
       "      <th>22809</th>\n",
       "      <td>1</td>\n",
       "      <td>0</td>\n",
       "      <td>4</td>\n",
       "      <td>22.600000</td>\n",
       "      <td>7.119498</td>\n",
       "    </tr>\n",
       "    <tr>\n",
       "      <th>23223</th>\n",
       "      <td>1</td>\n",
       "      <td>0</td>\n",
       "      <td>3</td>\n",
       "      <td>17.200000</td>\n",
       "      <td>66.082629</td>\n",
       "    </tr>\n",
       "    <tr>\n",
       "      <th>23350</th>\n",
       "      <td>1</td>\n",
       "      <td>0</td>\n",
       "      <td>4</td>\n",
       "      <td>18.833333</td>\n",
       "      <td>-6.035528</td>\n",
       "    </tr>\n",
       "  </tbody>\n",
       "</table>\n",
       "</div>"
      ],
      "text/plain": [
       "       isHouse  isFlat  rating_num  room-size  Pct Difference\n",
       "20734        1       0           3  22.666667       -3.892663\n",
       "22635        0       1           3  12.600000      -17.723330\n",
       "22809        1       0           4  22.600000        7.119498\n",
       "23223        1       0           3  17.200000       66.082629\n",
       "23350        1       0           4  18.833333       -6.035528"
      ]
     },
     "execution_count": 104,
     "metadata": {},
     "output_type": "execute_result"
    }
   ],
   "source": [
    "df_21[['isHouse','isFlat','rating_num','room-size','Pct Difference']].head()"
   ]
  },
  {
   "cell_type": "code",
   "execution_count": 102,
   "id": "02bd5383",
   "metadata": {},
   "outputs": [
    {
     "data": {
      "text/plain": [
       "368"
      ]
     },
     "execution_count": 102,
     "metadata": {},
     "output_type": "execute_result"
    }
   ],
   "source": [
    "len(df_21)"
   ]
  },
  {
   "cell_type": "code",
   "execution_count": 101,
   "id": "9eed4f34",
   "metadata": {},
   "outputs": [
    {
     "data": {
      "text/plain": [
       "array([15.03832545])"
      ]
     },
     "execution_count": 101,
     "metadata": {},
     "output_type": "execute_result"
    }
   ],
   "source": [
    "regr.predict(np.array([[1,0,3,22.66]]))"
   ]
  },
  {
   "cell_type": "code",
   "execution_count": 97,
   "id": "e3c6976f",
   "metadata": {},
   "outputs": [
    {
     "data": {
      "text/plain": [
       "array([[ 1.        ,  0.        ,  3.        , 22.66666667],\n",
       "       [ 0.        ,  1.        ,  3.        , 12.6       ],\n",
       "       [ 1.        ,  0.        ,  4.        , 22.6       ],\n",
       "       ...,\n",
       "       [ 1.        ,  0.        ,  4.        , 19.71428571],\n",
       "       [ 1.        ,  0.        ,  5.        , 21.        ],\n",
       "       [ 1.        ,  0.        ,  3.        , 20.2       ]])"
      ]
     },
     "execution_count": 97,
     "metadata": {},
     "output_type": "execute_result"
    }
   ],
   "source": [
    "X"
   ]
  },
  {
   "cell_type": "code",
   "execution_count": null,
   "id": "1828729e",
   "metadata": {},
   "outputs": [],
   "source": []
  }
 ],
 "metadata": {
  "kernelspec": {
   "display_name": "Python 3 (ipykernel)",
   "language": "python",
   "name": "python3"
  },
  "language_info": {
   "codemirror_mode": {
    "name": "ipython",
    "version": 3
   },
   "file_extension": ".py",
   "mimetype": "text/x-python",
   "name": "python",
   "nbconvert_exporter": "python",
   "pygments_lexer": "ipython3",
   "version": "3.8.10"
  }
 },
 "nbformat": 4,
 "nbformat_minor": 5
}
