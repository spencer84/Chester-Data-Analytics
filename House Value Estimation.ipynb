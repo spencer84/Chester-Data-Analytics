{
 "cells": [
  {
   "cell_type": "markdown",
   "id": "cb8fd874",
   "metadata": {},
   "source": [
    "#### The goal of this is to produce a house value based on data retrieved from multiple data sources"
   ]
  },
  {
   "cell_type": "code",
   "execution_count": 1,
   "id": "bd1aacad",
   "metadata": {},
   "outputs": [],
   "source": [
    "import pandas as pd\n",
    "import numpy as np\n",
    "from sklearn.linear_model import LinearRegression"
   ]
  },
  {
   "cell_type": "markdown",
   "id": "55e5dffc",
   "metadata": {},
   "source": [
    "## Import data"
   ]
  },
  {
   "cell_type": "code",
   "execution_count": 4,
   "id": "0a6f9a20",
   "metadata": {},
   "outputs": [
    {
     "name": "stderr",
     "output_type": "stream",
     "text": [
      "/usr/local/lib/python3.8/dist-packages/IPython/core/interactiveshell.py:3185: DtypeWarning: Columns (2) have mixed types.Specify dtype option on import or set low_memory=False.\n",
      "  has_raised = await self.run_ast_nodes(code_ast.body, cell_name,\n"
     ]
    }
   ],
   "source": [
    "# Import the price paid dataset from the Land Registry API for the Chester Area\n",
    "\n",
    "price_df = pd.read_csv('price_paid_CHESTER.csv', index_col = 0)"
   ]
  },
  {
   "cell_type": "code",
   "execution_count": 7,
   "id": "0966f4da",
   "metadata": {},
   "outputs": [
    {
     "data": {
      "text/html": [
       "<div>\n",
       "<style scoped>\n",
       "    .dataframe tbody tr th:only-of-type {\n",
       "        vertical-align: middle;\n",
       "    }\n",
       "\n",
       "    .dataframe tbody tr th {\n",
       "        vertical-align: top;\n",
       "    }\n",
       "\n",
       "    .dataframe thead th {\n",
       "        text-align: right;\n",
       "    }\n",
       "</style>\n",
       "<table border=\"1\" class=\"dataframe\">\n",
       "  <thead>\n",
       "    <tr style=\"text-align: right;\">\n",
       "      <th></th>\n",
       "      <th>_about</th>\n",
       "      <th>pricePaid</th>\n",
       "      <th>transactionDate</th>\n",
       "      <th>transactionId</th>\n",
       "      <th>type</th>\n",
       "      <th>propertyAddress._about</th>\n",
       "      <th>propertyAddress.paon</th>\n",
       "      <th>propertyAddress.street</th>\n",
       "    </tr>\n",
       "  </thead>\n",
       "  <tbody>\n",
       "    <tr>\n",
       "      <th>183</th>\n",
       "      <td>http://landregistry.data.gov.uk/data/ppi/trans...</td>\n",
       "      <td>740000</td>\n",
       "      <td>Thu, 30 Sep 2021</td>\n",
       "      <td>D4D42645-57A5-27F6-E053-6C04A8C0A572</td>\n",
       "      <td>['http://landregistry.data.gov.uk/def/ppi/Tran...</td>\n",
       "      <td>http://landregistry.data.gov.uk/data/ppi/addre...</td>\n",
       "      <td>PEAR TREE COTTAGE</td>\n",
       "      <td>BARNHOUSE LANE</td>\n",
       "    </tr>\n",
       "    <tr>\n",
       "      <th>184</th>\n",
       "      <td>http://landregistry.data.gov.uk/data/ppi/trans...</td>\n",
       "      <td>283000</td>\n",
       "      <td>Fri, 19 Nov 2021</td>\n",
       "      <td>D4D42645-56F9-27F6-E053-6C04A8C0A572</td>\n",
       "      <td>['http://landregistry.data.gov.uk/def/ppi/Tran...</td>\n",
       "      <td>http://landregistry.data.gov.uk/data/ppi/addre...</td>\n",
       "      <td>26</td>\n",
       "      <td>BRENNUS PLACE</td>\n",
       "    </tr>\n",
       "    <tr>\n",
       "      <th>185</th>\n",
       "      <td>http://landregistry.data.gov.uk/data/ppi/trans...</td>\n",
       "      <td>220000</td>\n",
       "      <td>Fri, 08 Oct 2021</td>\n",
       "      <td>D4D42646-7DAE-27F6-E053-6C04A8C0A572</td>\n",
       "      <td>['http://landregistry.data.gov.uk/def/ppi/Tran...</td>\n",
       "      <td>http://landregistry.data.gov.uk/data/ppi/addre...</td>\n",
       "      <td>7</td>\n",
       "      <td>BLACKTHORN CLOSE</td>\n",
       "    </tr>\n",
       "    <tr>\n",
       "      <th>186</th>\n",
       "      <td>http://landregistry.data.gov.uk/data/ppi/trans...</td>\n",
       "      <td>364400</td>\n",
       "      <td>Fri, 18 Jun 2021</td>\n",
       "      <td>D4D42645-57E4-27F6-E053-6C04A8C0A572</td>\n",
       "      <td>['http://landregistry.data.gov.uk/def/ppi/Tran...</td>\n",
       "      <td>http://landregistry.data.gov.uk/data/ppi/addre...</td>\n",
       "      <td>45</td>\n",
       "      <td>ULLSWATER CRESCENT</td>\n",
       "    </tr>\n",
       "    <tr>\n",
       "      <th>187</th>\n",
       "      <td>http://landregistry.data.gov.uk/data/ppi/trans...</td>\n",
       "      <td>210000</td>\n",
       "      <td>Thu, 30 Sep 2021</td>\n",
       "      <td>D4D42645-54B4-27F6-E053-6C04A8C0A572</td>\n",
       "      <td>['http://landregistry.data.gov.uk/def/ppi/Tran...</td>\n",
       "      <td>http://landregistry.data.gov.uk/data/ppi/addre...</td>\n",
       "      <td>12</td>\n",
       "      <td>LORD STREET</td>\n",
       "    </tr>\n",
       "  </tbody>\n",
       "</table>\n",
       "</div>"
      ],
      "text/plain": [
       "                                                _about pricePaid  \\\n",
       "183  http://landregistry.data.gov.uk/data/ppi/trans...    740000   \n",
       "184  http://landregistry.data.gov.uk/data/ppi/trans...    283000   \n",
       "185  http://landregistry.data.gov.uk/data/ppi/trans...    220000   \n",
       "186  http://landregistry.data.gov.uk/data/ppi/trans...    364400   \n",
       "187  http://landregistry.data.gov.uk/data/ppi/trans...    210000   \n",
       "\n",
       "      transactionDate                         transactionId  \\\n",
       "183  Thu, 30 Sep 2021  D4D42645-57A5-27F6-E053-6C04A8C0A572   \n",
       "184  Fri, 19 Nov 2021  D4D42645-56F9-27F6-E053-6C04A8C0A572   \n",
       "185  Fri, 08 Oct 2021  D4D42646-7DAE-27F6-E053-6C04A8C0A572   \n",
       "186  Fri, 18 Jun 2021  D4D42645-57E4-27F6-E053-6C04A8C0A572   \n",
       "187  Thu, 30 Sep 2021  D4D42645-54B4-27F6-E053-6C04A8C0A572   \n",
       "\n",
       "                                                  type  \\\n",
       "183  ['http://landregistry.data.gov.uk/def/ppi/Tran...   \n",
       "184  ['http://landregistry.data.gov.uk/def/ppi/Tran...   \n",
       "185  ['http://landregistry.data.gov.uk/def/ppi/Tran...   \n",
       "186  ['http://landregistry.data.gov.uk/def/ppi/Tran...   \n",
       "187  ['http://landregistry.data.gov.uk/def/ppi/Tran...   \n",
       "\n",
       "                                propertyAddress._about propertyAddress.paon  \\\n",
       "183  http://landregistry.data.gov.uk/data/ppi/addre...    PEAR TREE COTTAGE   \n",
       "184  http://landregistry.data.gov.uk/data/ppi/addre...                   26   \n",
       "185  http://landregistry.data.gov.uk/data/ppi/addre...                    7   \n",
       "186  http://landregistry.data.gov.uk/data/ppi/addre...                   45   \n",
       "187  http://landregistry.data.gov.uk/data/ppi/addre...                   12   \n",
       "\n",
       "    propertyAddress.street  \n",
       "183         BARNHOUSE LANE  \n",
       "184          BRENNUS PLACE  \n",
       "185       BLACKTHORN CLOSE  \n",
       "186     ULLSWATER CRESCENT  \n",
       "187            LORD STREET  "
      ]
     },
     "execution_count": 7,
     "metadata": {},
     "output_type": "execute_result"
    }
   ],
   "source": [
    "price_df.tail()"
   ]
  },
  {
   "cell_type": "code",
   "execution_count": null,
   "id": "a20b66b7",
   "metadata": {},
   "outputs": [],
   "source": []
  }
 ],
 "metadata": {
  "kernelspec": {
   "display_name": "Python 3 (ipykernel)",
   "language": "python",
   "name": "python3"
  },
  "language_info": {
   "codemirror_mode": {
    "name": "ipython",
    "version": 3
   },
   "file_extension": ".py",
   "mimetype": "text/x-python",
   "name": "python",
   "nbconvert_exporter": "python",
   "pygments_lexer": "ipython3",
   "version": "3.8.10"
  }
 },
 "nbformat": 4,
 "nbformat_minor": 5
}
