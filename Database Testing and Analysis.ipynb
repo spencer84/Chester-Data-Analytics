{
 "cells": [
  {
   "cell_type": "markdown",
   "metadata": {},
   "source": [
    "Goal is to test out the best ways to manage loading data into a small database (using SQLite3) and handling duplicate records."
   ]
  },
  {
   "cell_type": "code",
   "execution_count": 1,
   "metadata": {},
   "outputs": [],
   "source": [
    "import sqlite3\n",
    "import pandas as pd"
   ]
  },
  {
   "cell_type": "code",
   "execution_count": 2,
   "metadata": {},
   "outputs": [],
   "source": [
    "db = sqlite3.connect('test.db')"
   ]
  },
  {
   "cell_type": "code",
   "execution_count": 3,
   "metadata": {},
   "outputs": [],
   "source": [
    "# Create a cursor object\n",
    "cur = db.cursor()"
   ]
  },
  {
   "cell_type": "markdown",
   "metadata": {},
   "source": [
    "# 1. Use of Primary Keys"
   ]
  },
  {
   "cell_type": "markdown",
   "metadata": {},
   "source": [
    "The intention of this section is to do some basic experimenting with primary keys and demonstrate their use before implementing any changes in my DB."
   ]
  },
  {
   "cell_type": "markdown",
   "metadata": {},
   "source": [
    "When a primary key isn't provided, it automatically adds the next sequential value. "
   ]
  },
  {
   "cell_type": "code",
   "execution_count": 5,
   "metadata": {},
   "outputs": [],
   "source": [
    "# Create a simple table\n",
    "\n",
    "cur.execute(\"CREATE TABLE airports (airportid INTEGER PRIMARY KEY, name text, city text, country text)\")\n",
    "\n",
    "# Create some sample data...\n",
    "test_vals = [('LHR', 'London', 'UK'),('LGW', 'London', 'UK')]\n",
    "\n",
    "# Load into database\n",
    "for val in test_vals:\n",
    "    cur.execute(\"INSERT INTO airports (name, city, country) VALUES \"+ str(val))"
   ]
  },
  {
   "cell_type": "code",
   "execution_count": null,
   "metadata": {},
   "outputs": [],
   "source": [
    "cur.execute(\"SELECT * from airports\")\n",
    "output = cur.fetchall()\n",
    "output"
   ]
  },
  {
   "cell_type": "code",
   "execution_count": 4,
   "metadata": {},
   "outputs": [
    {
     "data": {
      "text/plain": [
       "<sqlite3.Cursor at 0x11ac6c570>"
      ]
     },
     "execution_count": 4,
     "metadata": {},
     "output_type": "execute_result"
    }
   ],
   "source": [
    "# Delete table to start again\n",
    "\n",
    "cur.execute(\"DROP TABLE airports\")"
   ]
  },
  {
   "cell_type": "markdown",
   "metadata": {},
   "source": [
    "## Primary Key Based On Two Columns"
   ]
  },
  {
   "cell_type": "markdown",
   "metadata": {},
   "source": [
    "Suppose we want to create a primary key based on the unqiue values of two columns "
   ]
  },
  {
   "cell_type": "markdown",
   "metadata": {},
   "source": [
    "### Without primary keys"
   ]
  },
  {
   "cell_type": "code",
   "execution_count": 7,
   "metadata": {},
   "outputs": [],
   "source": [
    "# Create a simple table\n",
    "\n",
    "cur.execute(\"CREATE TABLE cars (make text, model text, inproduction boolean, year text)\")\n",
    "\n",
    "# Add in a few different values with duplicate make and model values\n",
    "\n",
    "test_vals = [('Honda', 'Civic', True, '2022'),('Honda', 'CRX', False, '2022'),('Honda', 'Civic', True, '2021'),('Nissan', 'Altima', True, '2022')]\n",
    "\n",
    "# Load into database\n",
    "for val in test_vals:\n",
    "    cur.execute(\"INSERT INTO cars (make, model, inproduction, year) VALUES \"+ str(val))"
   ]
  },
  {
   "cell_type": "code",
   "execution_count": 14,
   "metadata": {},
   "outputs": [
    {
     "data": {
      "text/plain": [
       "[('Honda', 'Civic', 1, '2022'),\n",
       " ('Honda', 'CRX', 0, '2022'),\n",
       " ('Honda', 'Civic', 1, '2021'),\n",
       " ('Nissan', 'Altima', 1, '2022'),\n",
       " ('Honda', 'CRX', 0, '2022')]"
      ]
     },
     "execution_count": 14,
     "metadata": {},
     "output_type": "execute_result"
    }
   ],
   "source": [
    "cur.execute(\"SELECT * from cars\")\n",
    "output = cur.fetchall()\n",
    "output"
   ]
  },
  {
   "cell_type": "code",
   "execution_count": 15,
   "metadata": {},
   "outputs": [
    {
     "data": {
      "text/plain": [
       "<sqlite3.Cursor at 0x11ac6c570>"
      ]
     },
     "execution_count": 15,
     "metadata": {},
     "output_type": "execute_result"
    }
   ],
   "source": [
    "cur.execute(\"INSERT OR REPLACE INTO cars VALUES('Honda', 'Civic', 0,'2022');\")"
   ]
  },
  {
   "cell_type": "code",
   "execution_count": 16,
   "metadata": {},
   "outputs": [
    {
     "data": {
      "text/plain": [
       "[('Honda', 'Civic', 1, '2022'),\n",
       " ('Honda', 'CRX', 0, '2022'),\n",
       " ('Honda', 'Civic', 1, '2021'),\n",
       " ('Nissan', 'Altima', 1, '2022'),\n",
       " ('Honda', 'CRX', 0, '2022'),\n",
       " ('Honda', 'Civic', 0, '2022')]"
      ]
     },
     "execution_count": 16,
     "metadata": {},
     "output_type": "execute_result"
    }
   ],
   "source": [
    "cur.execute(\"SELECT * from cars\")\n",
    "output = cur.fetchall()\n",
    "output"
   ]
  },
  {
   "cell_type": "markdown",
   "metadata": {},
   "source": [
    "Without a primary key, the value is duplicated rather than updated"
   ]
  },
  {
   "cell_type": "code",
   "execution_count": 17,
   "metadata": {},
   "outputs": [
    {
     "data": {
      "text/plain": [
       "<sqlite3.Cursor at 0x11ac6c570>"
      ]
     },
     "execution_count": 17,
     "metadata": {},
     "output_type": "execute_result"
    }
   ],
   "source": [
    "cur.execute(\"DROP TABLE cars\")"
   ]
  },
  {
   "cell_type": "markdown",
   "metadata": {},
   "source": [
    "### With primary keys"
   ]
  },
  {
   "cell_type": "code",
   "execution_count": 18,
   "metadata": {},
   "outputs": [],
   "source": [
    "# Create a simple table\n",
    "\n",
    "cur.execute(\"CREATE TABLE cars (make text, model text, inproduction boolean, year text, PRIMARY KEY (make, model, year))\")\n",
    "\n",
    "# Add in a few different values with duplicate make and model values\n",
    "\n",
    "test_vals = [('Honda', 'Civic', True, '2022'),('Honda', 'CRX', False, '2022'),('Honda', 'Civic', True, '2021'),('Nissan', 'Altima', True, '2022')]\n",
    "\n",
    "# Load into database\n",
    "for val in test_vals:\n",
    "    cur.execute(\"INSERT INTO cars (make, model, inproduction, year) VALUES \"+ str(val))"
   ]
  },
  {
   "cell_type": "code",
   "execution_count": 19,
   "metadata": {},
   "outputs": [
    {
     "data": {
      "text/plain": [
       "[('Honda', 'Civic', 1, '2022'),\n",
       " ('Honda', 'CRX', 0, '2022'),\n",
       " ('Honda', 'Civic', 1, '2021'),\n",
       " ('Nissan', 'Altima', 1, '2022')]"
      ]
     },
     "execution_count": 19,
     "metadata": {},
     "output_type": "execute_result"
    }
   ],
   "source": [
    "cur.execute(\"SELECT * from cars\")\n",
    "output = cur.fetchall()\n",
    "output"
   ]
  },
  {
   "cell_type": "code",
   "execution_count": 20,
   "metadata": {},
   "outputs": [
    {
     "data": {
      "text/plain": [
       "<sqlite3.Cursor at 0x11ac6c570>"
      ]
     },
     "execution_count": 20,
     "metadata": {},
     "output_type": "execute_result"
    }
   ],
   "source": [
    "cur.execute(\"INSERT OR REPLACE INTO cars VALUES('Honda', 'Civic', 0,'2022');\")"
   ]
  },
  {
   "cell_type": "code",
   "execution_count": 21,
   "metadata": {},
   "outputs": [
    {
     "data": {
      "text/plain": [
       "[('Honda', 'CRX', 0, '2022'),\n",
       " ('Honda', 'Civic', 1, '2021'),\n",
       " ('Nissan', 'Altima', 1, '2022'),\n",
       " ('Honda', 'Civic', 0, '2022')]"
      ]
     },
     "execution_count": 21,
     "metadata": {},
     "output_type": "execute_result"
    }
   ],
   "source": [
    "cur.execute(\"SELECT * from cars\")\n",
    "output = cur.fetchall()\n",
    "output"
   ]
  },
  {
   "cell_type": "markdown",
   "metadata": {},
   "source": [
    "With the primary key, we're able to simply update the records"
   ]
  },
  {
   "cell_type": "markdown",
   "metadata": {},
   "source": [
    "# EPC Data Analysis"
   ]
  },
  {
   "cell_type": "markdown",
   "metadata": {},
   "source": [
    "Knowing the importance of primary keys, I will now examine how data is stored in the Chester Data Analytics SQLite3 database I have created. This database is based off of API requests for EPC data in the Chester area and I'm looking to optimise the ingestion of this data."
   ]
  },
  {
   "cell_type": "code",
   "execution_count": null,
   "metadata": {},
   "outputs": [],
   "source": [
    "# \n",
    "cda = sqlite3.connect('./Chester-Data-Analytics/cda.db')\n",
    "\n",
    "cda_cur = cda.cursor()"
   ]
  },
  {
   "cell_type": "code",
   "execution_count": null,
   "metadata": {},
   "outputs": [],
   "source": [
    "# How many records are in the EPC table?\n",
    "\n",
    "cda_cur.execute(\"select count(uprn) from epc\")\n",
    "\n",
    "cda_cur.fetchall()"
   ]
  },
  {
   "cell_type": "code",
   "execution_count": null,
   "metadata": {},
   "outputs": [],
   "source": [
    "# How many records have a uprn?\n",
    "\n",
    "cda_cur.execute(\"select count(uprn) as uprn_count from epc where length(uprn)>1\")\n",
    "\n",
    "cda_cur.fetchall()"
   ]
  },
  {
   "cell_type": "code",
   "execution_count": null,
   "metadata": {},
   "outputs": [],
   "source": [
    "10453/11522"
   ]
  },
  {
   "cell_type": "markdown",
   "metadata": {},
   "source": [
    "Around 91% of properties with an EPC certificate include a UPRN. In an ideal world, I'd like to use the UPRN wherever possible; However, with almost 10% of the data lacking one, it makes sense to identify other unqiue values to use together to make a primary key. But which ones?"
   ]
  },
  {
   "cell_type": "code",
   "execution_count": null,
   "metadata": {},
   "outputs": [],
   "source": [
    "# How many records are there with distinct a postcode and address combination?\n",
    "\n",
    "cda_cur.execute(\"select count(postcode) from (select distinct postcode,address from epc)\")"
   ]
  },
  {
   "cell_type": "code",
   "execution_count": null,
   "metadata": {},
   "outputs": [],
   "source": [
    "cda_cur.fetchall()"
   ]
  },
  {
   "cell_type": "code",
   "execution_count": null,
   "metadata": {},
   "outputs": [],
   "source": [
    "# What about the address1 field? Are there duplicate records with an address1 and postcode combination?\n",
    "\n",
    "cda_cur.execute(\"select count(*) as appearances, address1, postcode from epc group by address1, postcode order by appearances desc limit 10\")"
   ]
  },
  {
   "cell_type": "code",
   "execution_count": null,
   "metadata": {},
   "outputs": [],
   "source": [
    "cda_cur.fetchall()"
   ]
  },
  {
   "cell_type": "code",
   "execution_count": null,
   "metadata": {},
   "outputs": [],
   "source": [
    "cda_cur.execute(\"select address from epc where address1 = 'Apartment 1' and postcode = 'CH1 1RD'\")"
   ]
  },
  {
   "cell_type": "code",
   "execution_count": null,
   "metadata": {},
   "outputs": [],
   "source": [
    "cda_cur.fetchall()"
   ]
  },
  {
   "cell_type": "markdown",
   "metadata": {},
   "source": [
    "These are all unique properties based on the second line of the address field, so the address1 field should not be used in the primary key. Otherwise, all the EPC records appear to have no duplicate values based on an address/postcode field combination which makes these the best fields for a primary key."
   ]
  },
  {
   "cell_type": "code",
   "execution_count": null,
   "metadata": {},
   "outputs": [],
   "source": [
    "# Import time module for further testing\n",
    "import time\n",
    "import json\n",
    "import pandas\n",
    "import base64\n",
    "import requests\n",
    "import datetime"
   ]
  },
  {
   "cell_type": "code",
   "execution_count": null,
   "metadata": {},
   "outputs": [],
   "source": [
    "path = './Chester-Data-Analytics/API Key.json'\n",
    "\n",
    "url = 'https://epc.opendatacommunities.org/api/v1/domestic/search'  # URL endpoint for the EPC API\n",
    "\n",
    "\n",
    "def get_key(path):\n",
    "    \"\"\"\n",
    "    This is to retrieve a stored key and username combination to access the EPC API.\n",
    "    These values are stored in a JSON file in a local directory and hidden by the .gitignore to avoid\n",
    "    making these public. The key is then encoded as per the EPC documentation.\n",
    "    :param path: Relative location of JSON file with epc username and key\n",
    "    :return: key (Encoded)\n",
    "    \"\"\"\n",
    "    with open(path) as f:\n",
    "        api_key = json.loads(f.read())\n",
    "    key = api_key['epc_key']\n",
    "    username = api_key['epc_username']\n",
    "    # Need to encode the username and key then strip off the extra bits\n",
    "    encoded_api_key = str(base64.b64encode(bytes(username + ':' + key, 'utf-8')))[1:].replace('\\'', \"\")\n",
    "    return encoded_api_key\n",
    "\n",
    "key = get_key(path)"
   ]
  },
  {
   "cell_type": "code",
   "execution_count": null,
   "metadata": {},
   "outputs": [],
   "source": [
    "postcode = 'CH2'\n",
    "results = energy_bands = ['a', 'b', 'c', 'd', 'e', 'f', 'g']\n",
    "postcode_area = postcode.split(\" \")[0]\n",
    "results = []\n",
    "for band in energy_bands:\n",
    "    results_not_reached = True\n",
    "    total_count = 0\n",
    "    while results_not_reached:\n",
    "        response = requests.get(url, params={'postcode': postcode, 'size': 5000, 'from': total_count,\n",
    "                                                 'energy-band': band},\n",
    "                                    headers={'Authorization': 'Basic %s' % key, \"Accept\": 'application/json'})\n",
    "        if response.status_code == 200:\n",
    "            results += response.json()['rows']\n",
    "            count = len(response.json()['rows'])\n",
    "        else:\n",
    "            print(response.status_code) \n",
    "        if count < 5000:  # The idea here is that if the response gets to the last section, we end the loop\n",
    "            results_not_reached = False\n",
    "        total_count += count\n",
    "results = pd.DataFrame(data=results, columns=response.json()['column-names'])"
   ]
  },
  {
   "cell_type": "code",
   "execution_count": null,
   "metadata": {},
   "outputs": [],
   "source": [
    "def get_postcode_epc_data(key, postcode, results):\n",
    "    \"\"\"\" Returns a pandas dataframe containing all results for the given postcode.\n",
    "    This can be written to a CSV file for later processing.\n",
    "    Maximum size of GET response is 5000, therefore, this function breaks the query into multiple GET requests for\n",
    "    each energy band\n",
    "    :param key: Encoded secret key for the OS API\n",
    "    :param postcode: Any UK Postcode or the first part (district portion)\n",
    "    :return: Pandas Dataframe of EPC results\n",
    "    \"\"\"\n",
    "    # Can only paginate through the first 10,000 results of any query. Need to use energy bands (or other parameter)\n",
    "    # to break up the query.\n",
    "    # Need to write these results to the database\n",
    "    curr_time = datetime.datetime.now().strftime('%Y-%m-%d %H:%M:%S')\n",
    "    # Write to DB\n",
    "    con = sqlite3.connect('./Chester-Data-Analytics/cda.db')\n",
    "    cur = con.cursor()\n",
    "    # Iterate through the results dataframe, adding each value\n",
    "    for index, row in results.iterrows():\n",
    "        cur.execute(\"INSERT INTO epc VALUES(?,?,?,?,?,?,?,?)\", (row.address, row.address1, row.uprn,row['postcode'],\n",
    "                                                                row['current-energy-rating'], row['total-floor-area'],\n",
    "                                                                row['lodgement-datetime'], curr_time))\n",
    "    # Is this redundant based on below code?\n",
    "    cur.execute(\"\"\"DELETE FROM epc where (address, lodgement_datetime) NOT IN (SELECT \n",
    "      epc.address, epc.lodgement_datetime\n",
    "    FROM\n",
    "      (SELECT\n",
    "         address, MAX(lodgement_datetime) AS most_recent_epc\n",
    "       FROM\n",
    "         epc\n",
    "       GROUP BY\n",
    "         address) AS latest_record\n",
    "    INNER JOIN\n",
    "      epc\n",
    "    ON\n",
    "      epc.address = latest_record.address AND\n",
    "      epc.lodgement_datetime = latest_record.most_recent_epc)\"\"\")\n",
    "    # cur.execute(\"DROP TABLE epc\")\n",
    "    # Drop duplicate records based on the most recent query_date\n",
    "    cur.execute(\"\"\"DELETE FROM epc WHERE query_date < (SELECT max(query_date) FROM epc) AND address IN\n",
    "                (SELECT address FROM epc GROUP BY address HAVING COUNT(*) >1)\"\"\")\n",
    "#     # Log the data in the data_log table\n",
    "    # Create the postcode district value\n",
    "    postcode_district = postcode.split(\" \")[0]\n",
    "    cur.execute(\"INSERT INTO data_log VALUES(?,?,?)\",(postcode_district, 'epc', curr_time))\n",
    "    con.commit()\n",
    "    con.close()\n",
    "    return"
   ]
  },
  {
   "cell_type": "code",
   "execution_count": null,
   "metadata": {},
   "outputs": [],
   "source": [
    "# This is using an old method than imports all values, then deletes duplicates\n",
    "# Quickly run the test for getting the EPC data from a given postcode then record the time\n",
    "\n",
    "start = time.perf_counter()\n",
    "get_postcode_epc_data(key, 'CH2', results)\n",
    "end = time.perf_counter()\n",
    "\n",
    "original_time = end-start\n"
   ]
  },
  {
   "cell_type": "code",
   "execution_count": null,
   "metadata": {},
   "outputs": [],
   "source": [
    "#cda_cur.execute(\"DROP TABLE epckeys\")"
   ]
  },
  {
   "cell_type": "code",
   "execution_count": null,
   "metadata": {},
   "outputs": [],
   "source": [
    "# Create a second EPC table with a primary key\n",
    "\n",
    "cda_cur.execute('''CREATE TABLE IF NOT EXISTS epckeys \n",
    "                    (address text, address1 text ,uprn text,postcode text, current_energy_rating text, \n",
    "                    total_floor_area real, lodgement_datetime text, query_date text, PRIMARY KEY (address, postcode))''')"
   ]
  },
  {
   "cell_type": "code",
   "execution_count": null,
   "metadata": {},
   "outputs": [],
   "source": [
    "# Re-write the function so that it \n",
    "\n",
    "def get_postcode_epc_data_improved(key, postcode, results):\n",
    "    \n",
    "    # Need to write these results to the database\n",
    "    curr_time = datetime.datetime.now().strftime('%Y-%m-%d %H:%M:%S')\n",
    "    # Write to DB\n",
    "    con = sqlite3.connect('./Chester-Data-Analytics/cda.db')\n",
    "    cur = con.cursor()\n",
    "    # Iterate through the results dataframe, adding each value\n",
    "    for index, row in results.iterrows():\n",
    "        cur.execute(\"INSERT OR REPLACE INTO epckeys VALUES(?,?,?,?,?,?,?,?)\", (row.address, row.address1, row.uprn,row['postcode'],\n",
    "                                                                row['current-energy-rating'], row['total-floor-area'],\n",
    "                                                                row['lodgement-datetime'], curr_time))\n",
    "    # Delete duplicates -- Commented out for demonstration\n",
    "#     cur.execute(\"\"\"DELETE FROM epckeys where (address, lodgement_datetime) NOT IN (SELECT \n",
    "#       epckeys.address, epckeys.lodgement_datetime\n",
    "#     FROM\n",
    "#       (SELECT\n",
    "#          address, MAX(lodgement_datetime) AS most_recent_epc\n",
    "#        FROM\n",
    "#          epckeys\n",
    "#        GROUP BY\n",
    "#          address) AS latest_record\n",
    "#     INNER JOIN\n",
    "#       epckeys\n",
    "#     ON\n",
    "#       epckeys.address = latest_record.address AND\n",
    "#       epckeys.lodgement_datetime = latest_record.most_recent_epc)\"\"\")\n",
    "    con.commit()\n",
    "    con.close()\n",
    "    return"
   ]
  },
  {
   "cell_type": "code",
   "execution_count": null,
   "metadata": {},
   "outputs": [],
   "source": [
    "# Check performance of the improved method\n",
    "\n",
    "start = time.perf_counter()\n",
    "get_postcode_epc_data_improved(key, 'CH2', results)\n",
    "end = time.perf_counter()\n",
    "\n",
    "updated_time = end-start\n",
    "\n",
    "print(f\"Original time: {original_time} seconds\")\n",
    "\n",
    "print(f\"Updated time: {updated_time} seconds\")\n",
    "\n",
    "print(f\"The improved method is {round(((original_time-updated_time)/updated_time)*100,2)}% faster than the original method\")\n"
   ]
  },
  {
   "cell_type": "markdown",
   "metadata": {},
   "source": [
    "Using the primary key appears to make a very impressive reduction in time.\n",
    "\n",
    "However, we still need to remove duplicate records and find all differences between the two methods."
   ]
  },
  {
   "cell_type": "code",
   "execution_count": null,
   "metadata": {},
   "outputs": [],
   "source": [
    "# Check to verify that the same amount of values are in each table\n",
    "\n",
    "cda_cur.execute(\"Select count(postcode) from epc\")\n",
    "\n",
    "print(cda_cur.fetchall())\n",
    "\n",
    "cda_cur.execute(\"Select count(postcode) from epckeys\")\n",
    "\n",
    "print(cda_cur.fetchall())\n",
    "\n"
   ]
  },
  {
   "cell_type": "code",
   "execution_count": null,
   "metadata": {},
   "outputs": [],
   "source": [
    "cda_cur.execute(\"Select count(*) as num, address from epc group by address order by num desc limit 10\")\n",
    "\n",
    "print(cda_cur.fetchall())"
   ]
  },
  {
   "cell_type": "code",
   "execution_count": null,
   "metadata": {},
   "outputs": [],
   "source": [
    "cda_cur.execute(\"Select count(*) as num, address from epckeys group by address order by num desc, address desc limit 10\")\n",
    "\n",
    "print(cda_cur.fetchall())"
   ]
  },
  {
   "cell_type": "code",
   "execution_count": null,
   "metadata": {},
   "outputs": [],
   "source": [
    "cda_cur.execute(\"select * from epckeys where address = 'Chapel View, Church Road, Saughall'\")\n",
    "\n",
    "print(cda_cur.fetchall())"
   ]
  },
  {
   "cell_type": "code",
   "execution_count": null,
   "metadata": {},
   "outputs": [],
   "source": [
    "# Without the drop duplicates part of the improved function, there are two properties with duplicate EPC records"
   ]
  },
  {
   "cell_type": "code",
   "execution_count": null,
   "metadata": {},
   "outputs": [],
   "source": [
    "# This finds all instances where the lodgement date isn't the most recent. Can be deleted by replacing 'SELECT *' with DELETE.\n",
    "\n",
    "cda_cur.execute(\"\"\"SELECT * FROM epckeys where (address, lodgement_datetime) NOT IN (SELECT \n",
    "      epckeys.address, epckeys.lodgement_datetime\n",
    "    FROM\n",
    "      (SELECT\n",
    "         address, MAX(lodgement_datetime) AS most_recent_epc\n",
    "       FROM\n",
    "         epckeys\n",
    "       GROUP BY\n",
    "         address) AS latest_record\n",
    "    INNER JOIN\n",
    "      epckeys\n",
    "    ON\n",
    "      epckeys.address = latest_record.address AND\n",
    "      epckeys.lodgement_datetime = latest_record.most_recent_epc)\"\"\")\n",
    "\n",
    "to_be_deleted = cda_cur.fetchall()"
   ]
  },
  {
   "cell_type": "code",
   "execution_count": null,
   "metadata": {},
   "outputs": [],
   "source": [
    "to_be_deleted"
   ]
  },
  {
   "cell_type": "markdown",
   "metadata": {},
   "source": [
    "Now to identify all the differences between the query results."
   ]
  },
  {
   "cell_type": "code",
   "execution_count": null,
   "metadata": {},
   "outputs": [],
   "source": [
    "cda_cur.execute(\"\"\"SELECT * FROM epc LEFT JOIN epckeys on epckeys.address = epc.address WHERE epckeys.address IS NULL order by uprn desc\"\"\")\n",
    "\n",
    "differences = cda_cur.fetchall()"
   ]
  },
  {
   "cell_type": "code",
   "execution_count": null,
   "metadata": {},
   "outputs": [],
   "source": [
    "differences"
   ]
  },
  {
   "cell_type": "code",
   "execution_count": null,
   "metadata": {},
   "outputs": [],
   "source": [
    "cda_cur.execute(\"SELECT * from epc where address = '4 Park Cottages, Kinseys Lane, Ince'\")\n",
    "\n",
    "cda_cur.fetchall()"
   ]
  },
  {
   "cell_type": "code",
   "execution_count": null,
   "metadata": {},
   "outputs": [],
   "source": [
    "results[results['address']=='4 Park Cottages, Kinseys Lane, Ince']"
   ]
  },
  {
   "cell_type": "code",
   "execution_count": 8,
   "metadata": {},
   "outputs": [
    {
     "data": {
      "text/plain": [
       "<sqlite3.Cursor at 0x11ac6c570>"
      ]
     },
     "execution_count": 8,
     "metadata": {},
     "output_type": "execute_result"
    }
   ],
   "source": [
    "cur.execute(\"select * from cars\")"
   ]
  },
  {
   "cell_type": "code",
   "execution_count": 9,
   "metadata": {},
   "outputs": [
    {
     "data": {
      "text/plain": [
       "[('Honda', 'Civic', 1, '2022'),\n",
       " ('Honda', 'CRX', 0, '2022'),\n",
       " ('Honda', 'Civic', 1, '2021'),\n",
       " ('Nissan', 'Altima', 1, '2022')]"
      ]
     },
     "execution_count": 9,
     "metadata": {},
     "output_type": "execute_result"
    }
   ],
   "source": [
    "cur.fetchall()"
   ]
  },
  {
   "cell_type": "code",
   "execution_count": 22,
   "metadata": {},
   "outputs": [
    {
     "data": {
      "text/plain": [
       "<sqlite3.Cursor at 0x11ac6c570>"
      ]
     },
     "execution_count": 22,
     "metadata": {},
     "output_type": "execute_result"
    }
   ],
   "source": [
    "# Test out best use of insert or update\n",
    "\n",
    "cur.execute(\"\"\"insert or replace into cars (make, model, inproduction, year) \n",
    "values ( 'Honda', 'CRX', coalesce((select inproduction from cars where make = 'Honda' and model = 'CRX' and year ='2022'),1), '2022'\n",
    ")\"\"\")"
   ]
  },
  {
   "cell_type": "code",
   "execution_count": 23,
   "metadata": {},
   "outputs": [
    {
     "data": {
      "text/plain": [
       "[('Honda', 'Civic', 1, '2021'),\n",
       " ('Nissan', 'Altima', 1, '2022'),\n",
       " ('Honda', 'Civic', 0, '2022'),\n",
       " ('Honda', 'CRX', 0, '2022')]"
      ]
     },
     "execution_count": 23,
     "metadata": {},
     "output_type": "execute_result"
    }
   ],
   "source": [
    "cur.execute(\"select * from cars\")\n",
    "\n",
    "cur.fetchall()"
   ]
  },
  {
   "cell_type": "code",
   "execution_count": 24,
   "metadata": {},
   "outputs": [],
   "source": [
    "cur.close()"
   ]
  },
  {
   "cell_type": "code",
   "execution_count": null,
   "metadata": {},
   "outputs": [],
   "source": []
  }
 ],
 "metadata": {
  "kernelspec": {
   "display_name": "Python 3",
   "language": "python",
   "name": "python3"
  },
  "language_info": {
   "codemirror_mode": {
    "name": "ipython",
    "version": 3
   },
   "file_extension": ".py",
   "mimetype": "text/x-python",
   "name": "python",
   "nbconvert_exporter": "python",
   "pygments_lexer": "ipython3",
   "version": "3.8.5"
  }
 },
 "nbformat": 4,
 "nbformat_minor": 4
}
